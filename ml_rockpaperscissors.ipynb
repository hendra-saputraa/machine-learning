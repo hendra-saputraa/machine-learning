{
  "nbformat": 4,
  "nbformat_minor": 0,
  "metadata": {
    "colab": {
      "name": "ml_rockpaperscissors.ipynb",
      "provenance": []
    },
    "kernelspec": {
      "name": "python3",
      "display_name": "Python 3"
    }
  },
  "cells": [
    {
      "cell_type": "markdown",
      "metadata": {
        "id": "TFb2yPf1SV7g"
      },
      "source": [
        "Proyek Akhir: Klasisifikasi Gambar"
        "\n",
        "**Muhammad Hendra Saputra\n**",
      ]
    },
    {
      "cell_type": "code",
      "metadata": {
        "id": "fnb8nwbewuBa",
        "colab_type": "code",
        "colab": {}
      },
      "source": [
        "import tensorflow as tf\n",
        "from tensorflow.keras.optimizers import RMSprop\n",
        "from tensorflow.keras.preprocessing.image import ImageDataGenerator\n",
        "from sklearn.model_selection import train_test_split\n",
        "import os"
      ],
      "execution_count": 0,
      "outputs": []
    },
    {
      "cell_type": "code",
      "metadata": {
        "id": "G4MRxe-on2uS",
        "colab_type": "code",
        "outputId": "60ad70ee-4b40-4157-878a-c38370e5aae3",
        "colab": {
          "base_uri": "https://localhost:8080/",
          "height": 204
        }
      },
      "source": [
        "# download file zip\n",
        "!wget --no-check-certificate \\\n",
        "https://github.com/dicodingacademy/assets/releases/download/release/rockpaperscissors.zip \\\n",
        "  -O /tmp/rockpaperscissors.zip"
      ],
      "execution_count": 2,
      "outputs": [
        {
          "output_type": "stream",
          "text": [
            "--2023-09-17 19:47:31--  https://github.com/dicodingacademy/assets/releases/download/release/rockpaperscissors.zip\n",
            "Resolving dicodingacademy.blob.core.windows.net (dicodingacademy.blob.core.windows.net)... 52.239.197.36\n",
            "Connecting to dicodingacademy.blob.core.windows.net (dicodingacademy.blob.core.windows.net)|52.239.197.36|:443... connected.\n",
            "HTTP request sent, awaiting response... 200 OK\n",
            "Length: 322873683 (308M) [application/zip]\n",
            "Saving to: ‘/tmp/rockpaperscissors.zip’\n",
            "\n",
            "/tmp/rockpapersciss 100%[===================>] 307.92M  33.6MB/s    in 10s     \n",
            "\n",
            "2023-09-17 19:48:04 (29.6 MB/s) - ‘/tmp/rockpaperscissors.zip’ saved [322873683/322873683]\n",
            "\n"
          ],
          "name": "stdout"
        }
      ]
    },
    {
      "cell_type": "code",
      "metadata": {
        "id": "tc0wbGqgog3-",
        "colab_type": "code",
        "colab": {}
      },
      "source": [
        "# ekstraksi file zip\n",
        "import zipfile\n",
        "local_zip = '/tmp/rockpaperscissors.zip'\n",
        "zip_ref = zipfile.ZipFile(local_zip,'r')\n",
        "zip_ref.extractall('/tmp')\n",
        "zip_ref.close()"
      ],
      "execution_count": 0,
      "outputs": []
    },
    {
      "cell_type": "code",
      "metadata": {
        "id": "mMhJDsiEKD-8",
        "colab_type": "code",
        "colab": {
          "base_uri": "https://localhost:8080/",
          "height": 34
        },
        "outputId": "fdbdef4c-7e9d-44a6-ff05-8242bcee8be0"
      },
      "source": [
        "os.listdir('/tmp/rockpaperscissors')"
      ],
      "execution_count": 7,
      "outputs": [
        {
          "output_type": "execute_result",
          "data": {
            "text/plain": [
              "['README_rpc-cv-images.txt', 'rock', 'rps-cv-images', 'scissors', 'paper']"
            ]
          },
          "metadata": {
            "tags": []
          },
          "execution_count": 7
        }
      ]
    },
    {
      "cell_type": "code",
      "metadata": {
        "id": "hZmy5itWL-mm",
        "colab_type": "code",
        "colab": {
          "base_uri": "https://localhost:8080/",
          "height": 34
        },
        "outputId": "5dc81e87-b87e-40a2-adb4-7c09ed852d7f"
      },
      "source": [
        "len(os.listdir('/tmp/rockpaperscissors/rock'))"
      ],
      "execution_count": 9,
      "outputs": [
        {
          "output_type": "execute_result",
          "data": {
            "text/plain": [
              "726"
            ]
          },
          "metadata": {
            "tags": []
          },
          "execution_count": 9
        }
      ]
    },
    {
      "cell_type": "code",
      "metadata": {
        "id": "Mz1JkCWbMSza",
        "colab_type": "code",
        "colab": {
          "base_uri": "https://localhost:8080/",
          "height": 34
        },
        "outputId": "58a611d2-1cf7-42d7-d424-31fc5040ad5b"
      },
      "source": [
        "len(os.listdir('/tmp/rockpaperscissors/scissors'))"
      ],
      "execution_count": 10,
      "outputs": [
        {
          "output_type": "execute_result",
          "data": {
            "text/plain": [
              "750"
            ]
          },
          "metadata": {
            "tags": []
          },
          "execution_count": 10
        }
      ]
    },
    {
      "cell_type": "code",
      "metadata": {
        "id": "2vn285qjMWgO",
        "colab_type": "code",
        "colab": {
          "base_uri": "https://localhost:8080/",
          "height": 34
        },
        "outputId": "5b17ec59-f5fb-4c0c-be90-a22170e39fc2"
      },
      "source": [
        "len(os.listdir('/tmp/rockpaperscissors/paper'))"
      ],
      "execution_count": 11,
      "outputs": [
        {
          "output_type": "execute_result",
          "data": {
            "text/plain": [
              "712"
            ]
          },
          "metadata": {
            "tags": []
          },
          "execution_count": 11
        }
      ]
    },
    {
      "cell_type": "code",
      "metadata": {
        "id": "iQPSniUxpfIA",
        "colab_type": "code",
        "colab": {}
      },
      "source": [
        "# membuat nama directory\n",
        "base_dir = '/tmp/rockpaperscissors'\n",
        "train_dir = os.path.join(base_dir,'train')\n",
        "validation_dir = os.path.join(base_dir, 'val')\n",
        "\n",
        "# membuat direktory train dan validation\n",
        "os.mkdir(train_dir)\n",
        "os.mkdir(validation_dir)"
      ],
      "execution_count": 0,
      "outputs": []
    },
    {
      "cell_type": "code",
      "metadata": {
        "id": "I5wqPvXsrF5L",
        "colab_type": "code",
        "colab": {}
      },
      "source": [
        "rock_dir = os.path.join(base_dir,'rock')\n",
        "paper_dir = os.path.join(base_dir, 'paper')\n",
        "scissors_dir = os.path.join(base_dir, 'scissors')"
      ],
      "execution_count": 0,
      "outputs": []
    },
    {
      "cell_type": "code",
      "metadata": {
        "id": "hLe0qgWpsbsX",
        "colab_type": "code",
        "colab": {}
      },
      "source": [
        "# memecah directory rock menjadi data train dan data validation\n",
        "train_rock_dir, val_rock_dir = train_test_split(os.listdir(rock_dir), test_size = 0.2)\n",
        "\n",
        "# memecah directory paper menjadi data train dan data validation\n",
        "train_paper_dir, val_paper_dir = train_test_split(os.listdir(paper_dir), test_size = 0.2)\n",
        "\n",
        "# memecah directory scissors menjadi data train dan data validation\n",
        "train_scissors_dir, val_scissors_dir = train_test_split(os.listdir(scissors_dir), test_size = 0.2)\n"
      ],
      "execution_count": 0,
      "outputs": []
    },
    {
      "cell_type": "code",
      "metadata": {
        "id": "AwTkizLBtjwz",
        "colab_type": "code",
        "colab": {}
      },
      "source": [
        "train_rock = os.path.join(train_dir, 'rock')\n",
        "train_paper = os.path.join(train_dir, 'paper')\n",
        "train_scissors = os.path.join(train_dir, 'scissors')\n",
        "val_rock = os.path.join(validation_dir, 'rock')\n",
        "val_paper = os.path.join(validation_dir, 'paper')\n",
        "val_scissors = os.path.join(validation_dir, 'scissors')\n",
        "\n",
        "# membuat directory baru di dalam directory train dan val\n",
        "if not os.path.exists(train_rock):\n",
        "  os.mkdir(train_rock)\n",
        "if not os.path.exists(train_paper):\n",
        "  os.mkdir(train_paper)\n",
        "if not os.path.exists(train_scissors):\n",
        "  os.mkdir(train_scissors)\n",
        "\n",
        "if not os.path.exists(val_rock):\n",
        "  os.mkdir(val_rock)\n",
        "if not os.path.exists(val_paper):\n",
        "  os.mkdir(val_paper)\n",
        "if not os.path.exists(val_scissors):\n",
        "  os.mkdir(val_scissors)"
      ],
      "execution_count": 0,
      "outputs": []
    },
    {
      "cell_type": "code",
      "metadata": {
        "id": "iVMTxHug2gVS",
        "colab_type": "code",
        "colab": {}
      },
      "source": [
        "# meng copy data train dan data val ke directory baru\n",
        "import shutil\n",
        "\n",
        "for i in train_rock_dir:\n",
        "  shutil.copy(os.path.join(rock_dir, i), os.path.join(train_rock, i))\n",
        "for i in train_paper_dir:\n",
        "  shutil.copy(os.path.join(paper_dir,i), os.path.join(train_paper,i))\n",
        "for i in train_scissors_dir:\n",
        "  shutil.copy(os.path.join(scissors_dir,i), os.path.join(train_scissors,i))\n",
        "\n",
        "for i in val_rock_dir:\n",
        "  shutil.copy(os.path.join(rock_dir, i), os.path.join(val_rock,i))\n",
        "for i in val_paper_dir:\n",
        "  shutil.copy(os.path.join(paper_dir,i), os.path.join(val_paper,i))\n",
        "for i in val_scissors_dir:\n",
        "  shutil.copy(os.path.join(scissors_dir,i), os.path.join(val_scissors,i))"
      ],
      "execution_count": 0,
      "outputs": []
    },
    {
      "cell_type": "code",
      "metadata": {
        "id": "oEEJNxe9PkUd",
        "colab_type": "code",
        "colab": {
          "base_uri": "https://localhost:8080/",
          "height": 34
        },
        "outputId": "13cf6c9d-0f02-425c-86d6-5685fc6a0e62"
      },
      "source": [
        "len(os.listdir('/tmp/rockpaperscissors/train/rock'))"
      ],
      "execution_count": 17,
      "outputs": [
        {
          "output_type": "execute_result",
          "data": {
            "text/plain": [
              "580"
            ]
          },
          "metadata": {
            "tags": []
          },
          "execution_count": 17
        }
      ]
    },
    {
      "cell_type": "code",
      "metadata": {
        "id": "-agpgaO4P9tA",
        "colab_type": "code",
        "colab": {
          "base_uri": "https://localhost:8080/",
          "height": 34
        },
        "outputId": "d24575e0-d5f7-436d-9878-e63f02e2462e"
      },
      "source": [
        "len(os.listdir('/tmp/rockpaperscissors/val/rock'))"
      ],
      "execution_count": 18,
      "outputs": [
        {
          "output_type": "execute_result",
          "data": {
            "text/plain": [
              "146"
            ]
          },
          "metadata": {
            "tags": []
          },
          "execution_count": 18
        }
      ]
    },
    {
      "cell_type": "code",
      "metadata": {
        "id": "ak56Rds_QEm1",
        "colab_type": "code",
        "colab": {
          "base_uri": "https://localhost:8080/",
          "height": 34
        },
        "outputId": "cdbbc0f7-11dd-464f-81b9-0b61bf2e21c2"
      },
      "source": [
        "len(os.listdir('/tmp/rockpaperscissors/train/scissors'))"
      ],
      "execution_count": 19,
      "outputs": [
        {
          "output_type": "execute_result",
          "data": {
            "text/plain": [
              "600"
            ]
          },
          "metadata": {
            "tags": []
          },
          "execution_count": 19
        }
      ]
    },
    {
      "cell_type": "code",
      "metadata": {
        "id": "lg41kbvqQE_q",
        "colab_type": "code",
        "colab": {
          "base_uri": "https://localhost:8080/",
          "height": 34
        },
        "outputId": "5b9e42ec-e60e-44c2-c868-13522f980218"
      },
      "source": [
        "len(os.listdir('/tmp/rockpaperscissors/val/scissors'))"
      ],
      "execution_count": 21,
      "outputs": [
        {
          "output_type": "execute_result",
          "data": {
            "text/plain": [
              "150"
            ]
          },
          "metadata": {
            "tags": []
          },
          "execution_count": 21
        }
      ]
    },
    {
      "cell_type": "code",
      "metadata": {
        "id": "cRQRZna0QFQ_",
        "colab_type": "code",
        "colab": {
          "base_uri": "https://localhost:8080/",
          "height": 34
        },
        "outputId": "3415072f-a6fc-478d-ffe9-b511ab1d8053"
      },
      "source": [
        "len(os.listdir('/tmp/rockpaperscissors/train/paper'))"
      ],
      "execution_count": 22,
      "outputs": [
        {
          "output_type": "execute_result",
          "data": {
            "text/plain": [
              "569"
            ]
          },
          "metadata": {
            "tags": []
          },
          "execution_count": 22
        }
      ]
    },
    {
      "cell_type": "code",
      "metadata": {
        "id": "s8GCpjT9QQkx",
        "colab_type": "code",
        "colab": {
          "base_uri": "https://localhost:8080/",
          "height": 34
        },
        "outputId": "1571429a-c299-4d6a-fe78-b51ab13df0be"
      },
      "source": [
        "len(os.listdir('/tmp/rockpaperscissors/val/paper'))"
      ],
      "execution_count": 23,
      "outputs": [
        {
          "output_type": "execute_result",
          "data": {
            "text/plain": [
              "143"
            ]
          },
          "metadata": {
            "tags": []
          },
          "execution_count": 23
        }
      ]
    },
    {
      "cell_type": "code",
      "metadata": {
        "id": "HPj9NPZX-jRV",
        "colab_type": "code",
        "colab": {}
      },
      "source": [
        "# membuat image data generator\n",
        "\n",
        "train_datagen = ImageDataGenerator(\n",
        "    rescale = 1./225,\n",
        "    rotation_range = 20,\n",
        "    horizontal_flip = True,\n",
        "    shear_range = 0.2,\n",
        "    fill_mode = 'nearest')\n",
        "\n",
        "test_datagen = ImageDataGenerator(\n",
        "    rescale = 1./225,\n",
        "    rotation_range = 20,\n",
        "    horizontal_flip = True,\n",
        "    shear_range = 0.2,\n",
        "    fill_mode = 'nearest')\n"
      ],
      "execution_count": 0,
      "outputs": []
    },
    {
      "cell_type": "code",
      "metadata": {
        "id": "Lme6p3RD_VqG",
        "colab_type": "code",
        "outputId": "8db2ee0f-1f3f-4862-c196-a161d3be82cf",
        "colab": {
          "base_uri": "https://localhost:8080/",
          "height": 51
        }
      },
      "source": [
        "train_generator = train_datagen.flow_from_directory(\n",
        "    train_dir,\n",
        "    target_size =(150,150),\n",
        "    batch_size = 32,\n",
        "    class_mode = 'categorical'\n",
        ")\n",
        "\n",
        "validation_generator = test_datagen.flow_from_directory(\n",
        "    validation_dir,\n",
        "    target_size = (150,150),\n",
        "    batch_size = 32,\n",
        "    class_mode = 'categorical'\n",
        ")"
      ],
      "execution_count": 25,
      "outputs": [
        {
          "output_type": "stream",
          "text": [
            "Found 1749 images belonging to 3 classes.\n",
            "Found 439 images belonging to 3 classes.\n"
          ],
          "name": "stdout"
        }
      ]
    },
    {
      "cell_type": "code",
      "metadata": {
        "id": "xnvMc1kaBMsw",
        "colab_type": "code",
        "colab": {}
      },
      "source": [
        "# membuat model \n",
        "model = tf.keras.models.Sequential([\n",
        "  tf.keras.layers.Conv2D(32, (3,3), activation = 'relu', input_shape= (150,150,3)),\n",
        "  tf.keras.layers.MaxPooling2D(2,2),\n",
        "  tf.keras.layers.Conv2D(64,(3,3), activation= 'relu'),\n",
        "  tf.keras.layers.MaxPooling2D(2,2),\n",
        "  tf.keras.layers.Conv2D(128,(3,3), activation= 'relu'),\n",
        "  tf.keras.layers.MaxPooling2D(2,2),\n",
        "  tf.keras.layers.Conv2D(256,(3,3), activation= 'relu'),\n",
        "  tf.keras.layers.MaxPooling2D(2,2),\n",
        "  tf.keras.layers.Flatten(),\n",
        "  tf.keras.layers.Dense(512, activation= 'relu'),\n",
        "  tf.keras.layers.Dense(3, activation= 'softmax')\n",
        "])"
      ],
      "execution_count": 0,
      "outputs": []
    },
    {
      "cell_type": "code",
      "metadata": {
        "id": "RGGAXnqcDSGO",
        "colab_type": "code",
        "colab": {}
      },
      "source": [
        "model.compile(loss = 'categorical_crossentropy',\n",
        "              optimizer = tf.optimizers.Adam(),\n",
        "              metrics=['accuracy'])\n"
      ],
      "execution_count": 0,
      "outputs": []
    },
    {
      "cell_type": "code",
      "metadata": {
        "id": "yLgOepqvDxcl",
        "colab_type": "code",
        "outputId": "11fa8ae0-4c47-42b7-ef41-39f718169cff",
        "colab": {
          "base_uri": "https://localhost:8080/",
          "height": 697
        }
      },
      "source": [
        "history = model.fit(\n",
        "    train_generator,\n",
        "    steps_per_epoch = 25,\n",
        "    epochs = 20,\n",
        "    validation_data = validation_generator,\n",
        "    validation_steps = 5,\n",
        "    verbose =2\n",
        ")"
      ],
      "execution_count": 28,
      "outputs": [
        {
          "output_type": "stream",
          "text": [
            "Epoch 1/20\n",
            "25/25 - 42s - loss: 1.1301 - accuracy: 0.3828 - val_loss: 1.0744 - val_accuracy: 0.4625\n",
            "Epoch 2/20\n",
            "25/25 - 42s - loss: 0.9201 - accuracy: 0.5500 - val_loss: 0.8414 - val_accuracy: 0.6687\n",
            "Epoch 3/20\n",
            "25/25 - 42s - loss: 0.5646 - accuracy: 0.7883 - val_loss: 0.3740 - val_accuracy: 0.8938\n",
            "Epoch 4/20\n",
            "25/25 - 42s - loss: 0.3413 - accuracy: 0.8872 - val_loss: 0.2228 - val_accuracy: 0.9312\n",
            "Epoch 5/20\n",
            "25/25 - 42s - loss: 0.2205 - accuracy: 0.9125 - val_loss: 0.3380 - val_accuracy: 0.8875\n",
            "Epoch 6/20\n",
            "25/25 - 42s - loss: 0.2368 - accuracy: 0.9290 - val_loss: 0.1743 - val_accuracy: 0.9500\n",
            "Epoch 7/20\n",
            "25/25 - 42s - loss: 0.1773 - accuracy: 0.9488 - val_loss: 0.1926 - val_accuracy: 0.9500\n",
            "Epoch 8/20\n",
            "25/25 - 42s - loss: 0.1400 - accuracy: 0.9531 - val_loss: 0.0996 - val_accuracy: 0.9563\n",
            "Epoch 9/20\n",
            "25/25 - 42s - loss: 0.1598 - accuracy: 0.9366 - val_loss: 0.1401 - val_accuracy: 0.9500\n",
            "Epoch 10/20\n",
            "25/25 - 42s - loss: 0.1384 - accuracy: 0.9518 - val_loss: 0.1212 - val_accuracy: 0.9625\n",
            "Epoch 11/20\n",
            "25/25 - 46s - loss: 0.1070 - accuracy: 0.9725 - val_loss: 0.1509 - val_accuracy: 0.9375\n",
            "Epoch 12/20\n",
            "25/25 - 42s - loss: 0.1172 - accuracy: 0.9613 - val_loss: 0.1842 - val_accuracy: 0.9375\n",
            "Epoch 13/20\n",
            "25/25 - 42s - loss: 0.1841 - accuracy: 0.9240 - val_loss: 0.1198 - val_accuracy: 0.9688\n",
            "Epoch 14/20\n",
            "25/25 - 42s - loss: 0.1404 - accuracy: 0.9632 - val_loss: 0.1111 - val_accuracy: 0.9750\n",
            "Epoch 15/20\n",
            "25/25 - 42s - loss: 0.0797 - accuracy: 0.9737 - val_loss: 0.1358 - val_accuracy: 0.9563\n",
            "Epoch 16/20\n",
            "25/25 - 42s - loss: 0.0833 - accuracy: 0.9675 - val_loss: 0.1324 - val_accuracy: 0.9563\n",
            "Epoch 17/20\n",
            "25/25 - 41s - loss: 0.0891 - accuracy: 0.9708 - val_loss: 0.0829 - val_accuracy: 0.9750\n",
            "Epoch 18/20\n",
            "25/25 - 41s - loss: 0.0853 - accuracy: 0.9670 - val_loss: 0.1353 - val_accuracy: 0.9625\n",
            "Epoch 19/20\n",
            "25/25 - 42s - loss: 0.0674 - accuracy: 0.9800 - val_loss: 0.0611 - val_accuracy: 0.9750\n",
            "Epoch 20/20\n",
            "25/25 - 42s - loss: 0.0779 - accuracy: 0.9750 - val_loss: 0.0307 - val_accuracy: 0.9937\n"
          ],
          "name": "stdout"
        }
      ]
    },
    {
      "cell_type": "code",
      "metadata": {
        "id": "F-NUbMs27093",
        "colab_type": "code",
        "outputId": "c4349da9-b23d-40d1-8583-3ab4b4235310",
        "colab": {
          "base_uri": "https://localhost:8080/",
          "height": 516
        }
      },
      "source": [
        "# visualisasi hasil data training (Plot accuracy & loss model)\n",
        "\n",
        "import numpy as np\n",
        "from google.colab import files\n",
        "from keras.preprocessing import image\n",
        "import matplotlib.pyplot as plt\n",
        "import matplotlib.image as mpimg\n",
        "import matplotlib.pyplot as plt\n",
        "import matplotlib.image as mpimg\n",
        "%matplotlib inline\n",
        " \n",
        "\n",
        "acc = history.history['accuracy']\n",
        "val_acc = history.history['val_accuracy']\n",
        "\n",
        "loss = history.history['loss']\n",
        "val_loss = history.history['val_loss']\n",
        "\n",
        "epochs_range = range(20)\n",
        "\n",
        "plt.figure(figsize=(8, 8))\n",
        "plt.subplot(1, 2, 1)\n",
        "plt.plot(epochs_range, acc, label='Training Accuracy')\n",
        "plt.plot(epochs_range, val_acc, label='Validation Accuracy')\n",
        "plt.legend(loc='lower right')\n",
        "plt.title('Training and Validation Accuracy')\n",
        "\n",
        "plt.subplot(1, 2, 2)\n",
        "plt.plot(epochs_range, loss, label='Training Loss')\n",
        "plt.plot(epochs_range, val_loss, label='Validation Loss')\n",
        "plt.legend(loc='upper right')\n",
        "plt.title('Training and Validation Loss')\n",
        "plt.show()"
      ],
      "execution_count": 29,
      "outputs": [
        {
          "output_type": "stream",
          "text": [
            "Using TensorFlow backend.\n"
          ],
          "name": "stderr"
        },
        {
          "output_type": "display_data",
          "data": {
            "image/png": "iVBORw0KGgoAAAANSUhEUgAAAeMAAAHiCAYAAADbK6SdAAAABHNCSVQICAgIfAhkiAAAAAlwSFlzAAALEgAACxIB0t1+/AAAADh0RVh0U29mdHdhcmUAbWF0cGxvdGxpYiB2ZXJzaW9uMy4yLjEsIGh0dHA6Ly9tYXRwbG90bGliLm9yZy+j8jraAAAgAElEQVR4nOzdd3xb5dXA8d+Rh+Q9MkhiO5OQkL3DJgFK2ZTZhDDCLJTCCx209KVAGS19S0tLgdLSUqBAQhgNUMIoFAgQICRhJIEEsuMsbMcr3pae9497pciyZMvGtqyr8/188oktXV09VmIdnec+zzlijEEppZRSseOK9QCUUkqpRKfBWCmllIoxDcZKKaVUjGkwVkoppWJMg7FSSikVYxqMlVJKqRhzXDAWkZdF5KKuPjaWRGSLiBzXDed9S0Qus7+eJyKvRXNsJ55nsIjsE5Gkzo5VqY7Q94EOnVffB3qBXhGM7X8g/x+fiNQFfT+vI+cyxpxojHm0q4/tjUTkZyKyNMztfUWkUUTGRXsuY8wTxpjju2hcLd40jDHbjDGZxhhvV5w/zPOJiGwSkc+74/yqZ+j7QOfo+wCIiBGRA7v6vD2pVwRj+x8o0xiTCWwDTg267Qn/cSKSHLtR9kqPA4eJyLCQ2+cAq40xa2Iwplg4CugPDBeR6T35xPp/suvo+0Cn6fuAA/SKYByJiMwSkWIR+amI7Ab+ISJ5IvJvESkRkXL768KgxwRPucwXkXdF5G772M0icmInjx0mIktFpFpEXheR+0Xk8QjjjmaMt4vIe/b5XhORvkH3XyAiW0WkTET+N9LrY4wpBv4LXBBy14XAY+2NI2TM80Xk3aDvvyUi60SkUkTuAyTovhEi8l97fKUi8oSI5Nr3/RMYDLxoZzQ3iMhQ+5Nrsn3MIBF5QUT2isgGEbk86Ny3isgiEXnMfm3Wisi0SK+B7SLgeWCJ/XXwzzVWRP5jP9ceEfm5fXuSiPxcRDbaz7NSRIpCx2ofG/r/5D0RuUdEyoBb23o97McUichz9r9DmYjcJyKp9pjGBx3XX0RqRaRfOz9vQtH3AX0fiPJ9INzPk2Ofo8R+LW8SEZd934Ei8rb9s5WKyFP27WL/fn8tIlUislo6MLvQWb06GNsGAPnAEOAKrDH/w/5+MFAH3NfG42cC64G+wP8BfxcR6cSxTwLLgT7ArbT+jx8smjGeB1yMldGlAj8GEJExwJ/t8w+yny/sL47t0eCxiMgoYJI93o6+Vv5z9AWeA27Cei02AocHHwL82h7fwUAR1muCMeYCWmY1/xfmKRYCxfbjzwZ+JSLHBN1/mn1MLvBCW2MWkXT7HE/Yf+aISKp9XxbwOvCK/VwHAm/YD/0hMBc4CcgGLgFq23xh9psJbAIOAO5s6/UQ6/rYv4GtwFCgAFhojGm0f8bzg847F3jDGFMS5TgSib4P6PtAu2MO409ADjAcOBrrA8rF9n23A68BeViv7Z/s24/Hmm07yH7suUBZJ567Y4wxveoPsAU4zv56FtAIeNo4fhJQHvT9W8Bl9tfzgQ1B96UDBhjQkWOx/gM3A+lB9z8OPB7lzxRujDcFff994BX765ux3qz992XYr8FxEc6dDlQBh9nf3wk838nX6l376wuBD4KOE6xfmssinPc7wMfh/g3t74far2Uy1i+sF8gKuv/XwCP217cCrwfdNwaoa+O1PR8osc/tASqBM+z75gaPK+Rx64HTw9weGGsbr9O2dv69A68HcKh/fGGOm4n1hiX29yuAc2P5+9db/qDvA/o+0LH3AQMcGHJbkv2ajQm67XvAW/bXjwF/BQpDHncM8CVwCODqqf/z8ZAZlxhj6v3fiEi6iPzFnnKoApYCuRJ5hd5u/xfGGH/mk9nBYwcBe4NuA9geacBRjnF30Ne1QWMaFHxuY0wNbXwqs8f0NHCh/el9HtZ/ss68Vn6hYzDB34vIASKyUER22Od9HOuTczT8r2V10G1bsTJGv9DXxiORrxNeBCwyxjTb/0+eZf9UdRHWp/lw2rqvPS3+7dt5PYqArcaY5tCTGGM+xPr5ZonIaKzM/YVOjsnp9H1A3wfaeh8Ipy+QYp833HPcgPUBY7k9DX4JgDHmv1hZ+P3A1yLyVxHJ7sDzdko8BOPQtlI/AkYBM40x2VjTCRB0LaMb7ALy7SlRv6I2jv8mY9wVfG77Ofu085hHsaZSvgVkAS9+w3GEjkFo+fP+CuvfZbx93vNDztlWK7CdWK9lVtBtg4Ed7YypFbGuex0DnC8iu8W6nng2cJI9xbYda3oqnO3AiDC319h/B/9bDwg5JvTna+v12A4MbuNN5FH7+AuAZ4IDjmpB3wf0faCjSoEmrOn5Vs9hjNltjLncGDMIK2N+QOwV2caYe40xU7Ey8oOAn3ThuMKKh2AcKgvrmkeFiOQDt3T3ExpjtmJNId4q1sKbQ4FTu2mMzwCniMgR9rXP22j/3+kdoAJrysV/PfKbjOMlYKyInGkHkWtpGZCygH1ApYgU0Po/6h4iBEFjzHZgGfBrEfGIyATgUqxP1R11AdZ0kv/62CSsX5xirCnqfwMDReQ6EXGLSJaIzLQf+zfgdhEZaS/YmCAifYx1vXYHVoBPsj8thwvawdp6PZZjvandJSIZ9s8cfN3tceAMrDeyxzrxGiQqfR9oLVHfB/xS7XN5RMRj37YIuNP+3R+CtVbkcQAROUf2L2Qrx/rw4BOR6SIyU0RSsD6c1wO+bzCuqMRjMP4DkIb1qecDrMU5PWEe1vW/MuAO4CmgIcKxnR6jMWYtcDXWwotdWP9Jitt5jMF6Ix9Cyzf0To3DGFMKnAPchfXzjgTeCzrkl8AUrOuzL2Et8gj2a+AmEakQkR+HeYq5WNePdgL/Am4xxrwezdhCXAQ8YH/CDfwBHgQusqfAvoX1hrkb+AqYbT/291i/qK9hXWv7O9ZrBXA51htLGTAW602jLRFfD2PtqTwVawp6G9a/5XeD7t8OrMJ6I3in4y9BwtL3gdaPSdT3Ab+1WB86/H8uBq7BCqibgHexXs+H7eOnAx+KyD6sy0P/Y4zZhLWg8yGs13wr1s/+228wrqj4F46oDhJrGfw6Y0y3fyJXziYiDwM7jTE3xXosqmP0fUB1lXjMjGPCnroYISIuETkBOB1YHOtxqfgmIkOBM7Eyc9XL6fuA6i5aySZ6A7CmYfpgTRddZYz5OLZDUvFMRG4Hrgd+bYzZHOvxqKjo+4DqFjpNrZRSSsWYTlMrpZRSMabBWCmllIqxmF0z7tu3rxk6dGisnl6puLFy5cpSY0yvbh6hv89Kta+t3+WYBeOhQ4eyYsWKWD29UnFDRLa2f1Rs6e+zUu1r63dZp6mVUkqpGNNgrJRSSsWYBmOllFIqxrToh1JK9WJNTU0UFxdTX68NveKFx+OhsLCQlJSUqB+jwVgppXqx4uJisrKyGDp0KFYXQ9WbGWMoKyujuLiYYcOGRf04naZWSqlerL6+nj59+mggjhMiQp8+fTo8k6HBWCmlejkNxPGlM/9eGoyVUkpFVFZWxqRJk5g0aRIDBgygoKAg8H1jY2Obj12xYgXXXnttu89x2GGHdclY33rrLU455ZQuOVdP02vGSimlIurTpw+ffPIJALfeeiuZmZn8+Mc/Dtzf3NxMcnL4UDJt2jSmTZvW7nMsW7asawYbxzQzVkop1SHz58/nyiuvZObMmdxwww0sX76cQw89lMmTJ3PYYYexfv16oGWmeuutt3LJJZcwa9Yshg8fzr333hs4X2ZmZuD4WbNmcfbZZzN69GjmzZuHv7PgkiVLGD16NFOnTuXaa6/tUAa8YMECxo8fz7hx4/jpT38KgNfrZf78+YwbN47x48dzzz33AHDvvfcyZswYJkyYwJw5c775ixWldjNjEXkYOAX42hgzLsz9AvwROAmoBeYbY1Z19UCVUirR/fLFtXy+s6pLzzlmUDa3nDq2w48rLi5m2bJlJCUlUVVVxTvvvENycjKvv/46P//5z3n22WdbPWbdunW8+eabVFdXM2rUKK666qpW238+/vhj1q5dy6BBgzj88MN57733mDZtGt/73vdYunQpw4YNY+7cuVGPc+fOnfz0pz9l5cqV5OXlcfzxx7N48WKKiorYsWMHa9asAaCiogKAu+66i82bN+N2uwO39YRoMuNHgBPauP9EYKT95wrgz998WEoppXqzc845h6SkJAAqKys555xzGDduHNdffz1r164N+5iTTz4Zt9tN37596d+/P3v27Gl1zIwZMygsLMTlcjFp0iS2bNnCunXrGD58eGCrUEeC8UcffcSsWbPo168fycnJzJs3j6VLlzJ8+HA2bdrENddcwyuvvEJ2djYAEyZMYN68eTz++OMRp9+7Q7vPZIxZKiJD2zjkdOAxY80lfCAiuSIy0Bizq4vGqJRSCjqVwXaXjIyMwNe/+MUvmD17Nv/617/YsmULs2bNCvsYt9sd+DopKYnm5uZOHdMV8vLy+PTTT3n11Vd58MEHWbRoEQ8//DAvvfQSS5cu5cUXX+TOO+9k9erVPRKUu+KacQGwPej7Yvs2pZRSCaCyspKCAutt/5FHHuny848aNYpNmzaxZcsWAJ566qmoHztjxgzefvttSktL8Xq9LFiwgKOPPprS0lJ8Ph9nnXUWd9xxB6tWrcLn87F9+3Zmz57Nb37zGyorK9m3b1+X/zzh9OhqahG5Amsqm8GDB/fkUyullOomN9xwAxdddBF33HEHJ598cpefPy0tjQceeIATTjiBjIwMpk+fHvHYN954g8LCwsD3Tz/9NHfddRezZ8/GGMPJJ5/M6aefzqeffsrFF1+Mz+cD4Ne//jVer5fzzz+fyspKjDFce+215ObmdvnPE474V6q1eZA1Tf3vCAu4/gK8ZYxZYH+/HpjV3jT1tGnTjPY/Vap9IrLSGNP+/pAY0t/n7vPFF19w8MEHx3oYMbdv3z4yMzMxxnD11VczcuRIrr/++lgPK6Jw/25t/S53xTT1C8CFYjkEqNTrxUpFYe8msD+VO11do5eq+qZYD0PFsYceeohJkyYxduxYKisr+d73vhfrIXWpaLY2LQBmAX1FpBi4BUgBMMY8CCzB2ta0AWtr08XdNVilHKN8Czx0DEy+AI6/Pdaj6VZen2HCL1/liqOG85Nvj471cFScuv7663t1JvxNRbOaus015PYq6qu7bERKOV1jDSycB8YHU+fHejTdLsklDMjxsH1vXayHolSvpeUwlepJxsAL18CetTDvGegzItYj6hFFeelsL6+N9TCU6rW0HKZSPWnZn2DNs3DsL2DkcbEeTY8pykvXzFipNmgwVqqnbPwvvH4LjDkdjvhhrEfTo4ry0yjd10BdozfWQ1GqV9JgrFRPKN8Cz1wC/UbD6Q9AgvWnLcpPB6BYp6rjzuzZs3n11Vdb3PaHP/yBq666KuJjZs2ahX+r20knnRS2xvOtt97K3Xff3eZzL168mM8//zzw/c0338zrr7/ekeGH1RtbLWowVqq7BS/YmvMEuDNjPaIeV5hnBWO9bhx/5s6dy8KFC1vctnDhwqjrQy9ZsqTThTNCg/Ftt93Gccc58/KOBmOlulPwgq2zHob84bEeUUwU5acB6HXjOHT22Wfz0ksv0djYCMCWLVvYuXMnRx55JFdddRXTpk1j7Nix3HLLLWEfP3ToUEpLSwG48847OeiggzjiiCMCbRbB2kM8ffp0Jk6cyFlnnUVtbS3Lli3jhRde4Cc/+QmTJk1i48aNzJ8/n2eeeQawKm1NnjyZ8ePHc8kll9DQ0BB4vltuuYUpU6Ywfvx41q1bF/XPGstWi7qaWqku1uz1UdfkJcuTErRg65aEWrAVql+mG3eyi+17NTP+Rl7+Gexe3bXnHDAeTrwr4t35+fnMmDGDl19+mdNPP52FCxdy7rnnIiLceeed5Ofn4/V6OfbYY/nss8+YMGFC2POsXLmShQsX8sknn9Dc3MyUKVOYOnUqAGeeeSaXX345ADfddBN///vfueaaazjttNM45ZRTOPvss1ucq76+nvnz5/PGG29w0EEHceGFF/LnP/+Z6667DoC+ffuyatUqHnjgAe6++27+9re/tfsyxLrVombGSnWhzaU1HPf7t5l023/4zf0P4PvPLTSMOg2OcG6xgmiICIV5aTpNHaeCp6qDp6gXLVrElClTmDx5MmvXrm0xpRzqnXfe4YwzziA9PZ3s7GxOO+20wH1r1qzhyCOPZPz48TzxxBMRWzD6rV+/nmHDhnHQQQcBcNFFF7F06dLA/WeeeSYAU6dODTSXaE+sWy1qZqxUF1m+eS9X/HMFLhGum5rKhat/xZe+As5ZfQaTapdz0viBfHvsAPIzUmM91JgoytftTd9YGxlsdzr99NO5/vrrWbVqFbW1tUydOpXNmzdz991389FHH5GXl8f8+fOpr6/v1Pnnz5/P4sWLmThxIo888ghvvfXWNxqvvw1jV7Rg7KlWi5oZK9UFnv9kB+f/7UPyM1J5/vLJXPP1LWR7XLjmPsEFR41h295abnxuNdPvfJ0L/v4hC5ZvY29NY6yH3aOK8tJ1NXWcyszMZPbs2VxyySWBrLiqqoqMjAxycnLYs2cPL7/8cpvnOOqoo1i8eDF1dXVUV1fz4osvBu6rrq5m4MCBNDU18cQTTwRuz8rKorq6utW5Ro0axZYtW9iwYQMA//znPzn66KO/0c8Y61aLmhmr3qNkPXz0N9jwBpx+Pww5NOKhxhiavIbU5C74PFm2ERZdBJPOg0Ou6tC2I2MM97+5gbtf+5KZw/L5y7mjyF3yPdizFpn3DAeNnMgNB8NPvj2KtTurWLJ6Fy+t3sWNz63mpsVruP64kfzgmJHf/GeIA0X5aVTVN1NZ10ROWkqsh6M6aO7cuZxxxhmB6eqJEycyefJkRo8eTVFREYcffnibj58yZQrf/e53mThxIv3792/RBvH2229n5syZ9OvXj5kzZwYC8Jw5c7j88su59957Awu3ADweD//4xz8455xzaG5uZvr06Vx55ZUd+nl6W6vFqFoodgdtudb7NXl9rN1ZxcTCHKS79sV6m2D9Elj+EGx5B5JSwZ0N4oIr3oKcglYP2VpWww8XfcpnxRWcMG4gFx46hGlD8jo3xoZ98LfjoHS9tfVoyoVw0u8guf2p5Cavj58/t5qnVxZzxuQC7jo2F/ei86BkHZz8O5gWvmeKMSYQmA8d0YcjR/Zr83mc0kLx5dW7uOqJVfz7miMYV5DTQyOLf9pCMT51tIWiZsYqoltfWMsTH27j5PED+fVZ48n2dGE2U70bVj4KK/8B1bsgZ7C14njyBVBbBn87FhZdAPOXQIoHsILYohXb+eWLn5PkEs6YXMDLa3bz4qc7GT0giwsOHcJ3JhWQ4Y7yv7Ux8Pz3MaXr2fLtxxhYuRLP+/dA2SY49zHI6BPxoZV1TXz/iZW8t6GMa48dyfWj9iL/OA6aG+H8Z2DEMREfKyKMK8hJuIAUXPgj0X52pdqjwViF9cqaXTzx4TZmDM3nlbW7WbOzkvvPm/LN3kSNga3L4KOH4IsXwdcMI46FU+6BkceDK8k6LrMfnPEgPHU+LPkRnHYfZTWN3Pjcal77fA+HDu/D786dyKDcNG49bSzPf7KTx97fyv/+aw13LVnHWVMLOf+QIRzYv3VxDWMMOyrqWLWtgvQP/8hxO5/nruZ5/GWxC5HpXN3nR1y37U80PXA0vrkLySgc1+ocxeW1XPyPj9hSVsPd50zk7KR34NFrIacILn4K+ibGtHNHFfkLf+giLqVa0WCsWtlRUccNz3zGhMIcHr9sJp8VV/CDJz/mzAeW8YtTDub8Q4Z0fErY54XHTremoj25MPNKmHZJ5K5FB58KR/0Elv6W9a4DmffpeKrqmrjp5IO55PBhuFzW86enJjN3xmDmTC9i1bZy/vn+Vp78cBuPLNvC4Qf24YJDhtAvy82qrRWs2lbOqm3l7KlqYJbrEx5O+Qvvps3CNfEa/jQohw1f7+P9TfnMrcjlgX1343noOH6Z8zPcB5/AoSP6MH1oHl/t2celj66godnLo/OnctiW++G9P8Kwo+GcRyA9/5u9+A6Wk55ClidZtzcpFYYGY9VCs9fH9Qs/wesz3DtnMqnJLqYNzWfJ/xzJjxZ9wi+eX8sHm/Z2fNr688VWID7mJjjkakhNb/chtYffwLaP32PEits5OutOLrt0HgcPzA57rIgwdUg+U4fkc9MpDTz10Xae/HAbVz6+KnBMUX4ahwzvw9F9qzl9+YNI3liOuHQBRwSN5XqgvmkGaz6fxeDXLuWmql9y13sbuOjtE0h2uXCJ0D/bzVPzxzLineus693TLoUTfwNJuiipPVb3Jg3GHWWM6b51G6rLdWYtlgZj1cJ9b25g+Za93PPdiQztmxG4PT8jlb9fNJ2/vrOJ3766vmPT1sbAO7+HvqPgiB+Bq/0V0J9ur+D6pz6htPRi3szZzt3md0j6aUD4YBysb6abq2cfyJVHj2DpVyU0NvuYPDiX/lkeaKiGv30LkpKsOtFhPhR4UpKYNnECHPwWPHcF/7vun1wyqoEn+lxLWT38eGYafZ4/y1qoddLdMOPy9l8DBVgfiDaW1MR6GHHF4/FQVlZGnz59NCDHAWMMZWVleDyeDj1Og7EKWL55L/e+8RVnTi7gjMmFre53uYQrjx7BtCF5XLOgA9PWX74Ce9bAGX9pNxAbY7jvvxv44xtf0S/LzYOXHUOf7AlhF3S1J8klzB7VP/jksPj71srp85+DvKFtnyA1A879J7x5JwPfuZsfN++Ew66BJ662VoG3s1BLBfF5wdtIUV46b39ZopleBxQWFlJcXExJSUmsh6Ki5PF4WmybioYG40RU8iW88lOrROOwowCoqG3kuoUfMzg/ndu+03rRUrBpQ/N56doop62NgaV3Q+5gGHdWu0N7de1ufvefLzllwkDu/M54ctJTgL5WIH9qXmBBV6daEL77e/jiBTj+DhgxO7rHuFxw7C+g3yh4/gew4LuQPwLO04VaUfN54VeD4NCrKcy7gPomHyX7GqyZCtWulJQUhg0bFuthqG6mFbgSzYY3rH21G/8Lz18NTXUYY/jZs6v5urqBe+dOJjOKrUH+aesbTxzNK2t3c9HDy8NfJ9n8NuxYAYdfF9U11ac+2s6AbA9/nDPZDsS2g0+Bo26Ajx+3CoN01Ff/gTduh/HnwKE/6PjjJ5wLF79sPfay1zUQd4QrCTL6QeWOoO1NuqJaqWAajBOFMfDhX+CJsyG3yMo0K7bBu39gwfLtvLJ2NzecMIoJhdFXkXG5hO8dPYJbTh3Dx9sq+GR7mM4lS++GzAEwaV6759tTVc/bX5Zw1tQCklxhMt9ZN8JBJ8ArP7O2SEWrbCM8eykcMA5OvbdzWTVA4VT49p26YrozsgugsjgQjHURl1ItaTBOBN4m+Pf18PINcNCJcMmrMHEOjD8H37v38PCLb3DkyL5cdkTneu2eOaWQjNQknvxwW8s7ti+3VlAfdk1U13mfXVWMz8A5U4vCH+ByWR8icofAoguhckf7g2uohoXzrIpecx6PahW36gY5hVC5ncI8q6+xZsZKtaTXjONB2UZY8TCUfmVNlx58WlTlGgGo3WsFri3vWNeIj7k5sIiqfvateFf/m1tSHmPUuS8H9u52VKY7mdMmFfCvj4u56ZQx++sOv/M7SMuPWBYymDGGp1cUM2NofotV3K2k5cKcJ60FXQ8dA1kD2j5x3V6oLI5uwZbqPjmF8PnzpCe76JuZqpmxUiE0GPdWPi989ZpVs3njG+BKhoz+8NWr1t9TL4Kp8603uUhKvoQnz4WqHVZGOXFOi7t/9U4FKU1n8ouUJ2DnmzDqxE4Pd97MwSxYvo3FH+/gosOGWg3Qv3wFZt9krUpux4qt5WwureH7syIUAQnWf7S1LemDB6160m3JPMD6ABLtgi3VPXIKwdcENV9TmJeuhT+UCqHBuLepKYVVj8GKf0DlNkzmALaMu5ZnOIadTdn8emIpnk8etq7FvvM7GHUSTL8Mhs9qeS10w+vw9CVWBn3Rv2HwzBZP89ra3Tz2/la+d/iVsG2VNYU9fBakpHVq2OMKcphQmMOTH27jwkOHIO/8DlKzot6Du+ij7WSkJnHS+IHRPeHwWdYfFR/8HxrtRVyfhltfoFQC02DcGxgDO1ZaWfDa58DbyO68aTzb9yIe2D2KmhUu0lIaaGjeTWltX/5+0QJSq7dbU9erHoN1/4Y+I62gPGkufLIAXr0R+o+BuQusbUVBvtxTzQ3Pfsb4ghx+dOI4KL4bHjkZ3r0HZv+80z/GeTMG87PnVrN29QrGrV0MR1xnTSu3o6ahmZdW7+LUCYOib/Kg4ksgGG+nKG80L6/ehddnwi/UUyoB6Ttfd3rtJtixqt3DfDVluErX0eBK5+Wk47ivdhYbdhUypE8658zoz+zR/Zk5LJ8XPtnJDc9+xo+f/pQ/fHcSrm/90lph/PliK5C/8lP4zy/A2wijToYz/wruls0SNnxdzXkPfUBqkov7zrPKXTL0CGvLz7t/sKay8zu3kOvUiYO446UvqH3jbkj2WGUvo/DS6l3UNno5d3rHNsmrOJJtt8KsLKYofwrNPsOuyjoK83RBnVKgwbj71FXAsvuswJY9KOJh+xqa+azUzZKmi3mJoxg3vIC5o/oze1Q/hvdrGUjPnV5EaU0D//fKevpkpnLzKWOQFI8VQCfOgZ0fw8pHrDe+I3/cqtrVxpJ9zH3oQ0B48vJDGNIn6Frut26H9a/Ayz+F8xZ1avtPhjuZ+WNdTF77HxqmXYo7s+0+vX5Pr9jO8H4ZTBmc1+HnVHEiLQ9SMqBqB0Uj9ndv0mCslEWDcXfZ/iFg4NQ/wrAjwx5SWdfEqX96lya3j1+eM5YbD+zb7jTtVUePoLS6kYff2xyowRwwaLL1J4zNpTXM/esHGGNYcPkhrdsLZg+E2TfCqz+H9S/D6JM68tMGXMILGOBfaWcxp92jYVPJPj7aUs5PTxit5RGdTCSwvako31qXsL28lkOJ3DNaqUSi+4y7y9Zl4EqBwmlh7zbG8JOnP2VnRR33nTeF48cOiOp6qYhw08kH851Jg/jtq+t56qNt7T5ma5kViFf1ZuUAACAASURBVJt9hicuO4SRB2SFP3DGFdDvYGu6u6kT+0Crd5O//ineSjuOv33WEFXnkqdXFpPkEs6aUtDx51PxJccq/DEwJw0RKNbtTUoFaDDuLluXWVlqhNXJf393M699voefnTiaqUM6Nj3rcgn/d/ZEjjqoHzc+t5rX1u6OeOy2slrm/vUDGpq9PHHZTEYNiBCIwSpXefLddmWuezo0JgDevw98TTQf+j9s+NrKeNvS7PXx3KpiZh3Uj/7ZWqfY8XIKoXIHqckuBmZ7tPCHUkE0GHeHxlrr+u2Qw8LevXLrXu56eR3fHnsAlx7RuQLwqcku/jxvCuMLc7lmwccs37y31THb99Yy96EPqG3y8vhlMyP2Am5h6BEw/lxrMVfZxugHVLsXPnoYxp3F7EMPIcuTzJMfbm3zIe98VcqeqgbOmRah4pZylpwiqPkamuopzNe9xkoF02DcHXassAochAnGe2sa+cGTHzMoN43/O3viN7pOmuFO5h/zp1OYl8alj37EF7uq9g+hoo65D31AdX0Tj186k7GDoug77Hf87ZCUatWAjrZJ9od/gaYaOOKHpKUmcebkApas2U15TWPEhyxasZ38jFSOGd0/4jHKQfwrqqt2UJSXzva9mhkr5afBuDtsfR8QKGpZaMPnM1z31CeU1TTywLwp+8tGfgP5Gak8dulMMt3JXPTwcrbvrWVXZR1z//oBlXVNPH7ZTMYVdCAQg1VicvaNVgWw9S+3f3xDNXz4oLWd6oAxAMydOZjGZh/PrioO+5C9NY28/sUezphcYG2vUs7n32tctYOi/DT2VNfT0OyN7ZiU6iV0NXV32Pqe1SEopODFfW9uYOmXJfzqjPEdD5BtKMhN47FLZnD2g+9zod3KsLymkX9eNrNDXZhamHEFrPon/Ps6+Oypto+t3g31FXDUjwI3jR6QzZTBuTy5fBuXHjGs1QzA4o930OQ1nKtT1IkjUPijmKK84Vatm/K6Vlv4lEpEmpJ0NW8TFH/Uaor6vQ2l3PP6l3xn0iDmzuj6ADTygCwenj+dXZV1lO5r5NFLZzCpqJOBGKzFXN+5H7IGwtdftP2nrhymXQoFU1uc4ryZQ9hUUsMHm1pezzbGsGjFdiYW5rS9oEw5S4vCH/ZeY13EpRSgmXHX2/UpNNXCkEMDN+2pqud/Fn7MiH6Z3HnG+G7bTzt1SB7/+v7hpCS5Wu8j7oyCqfC9tzv98FMmDOS2F9fy5PJtHDpi/37SNTuqWLe7mju+M+6bj1HFjxQPZPSzg7G911i3NykFaGbc9fxN7wdbmXGz18c1Cz6mpsHLn+dN6fbaywcPzO6aQNwFPClJnDmlkFfW7KJsX0Pg9kUrtuNOdnHqxMiVyZRD5RRCZTEHZHlITXLpimqlbBqMg+0rgf/eAc0N7R8bydZlkD8Csg4A4Hf/+ZLlm/fyqzPHRS624WDzZg6myWt4ZqW1kKu+ycvzn+zghHEDumQBm4oz2VbhD5dLKMhLo1hXVCsFaDBu6f0/wdLfWl2QOsPng23vB64Xv/HFHv781kbmzhjMGZMTswnCyAOymD40jwXLt+HzGV77fA9V9c26cCtR5RRZ/bWNoTAvTTNjpWwajP2aG+HjJ6yv1zzXuXOUfGGtKh5yGOt2V3HdU58wdlA2t5w6puvGGYfOmzmYLWW1vL+pjKdXbKcgN41Dh2tN4oSUUwiN+6C+gqL8dL1mrJRNg7Hfun9DbSkMGG/tr62v7Pg57OvFO3Mmc+Hfl5ORmsxfLpiKJyWpiwcbX04cN5Dc9BTu+c+XvLuhlLOnFuLSPraJKWf/iurCvDTKa5vY19Ac2zEp1QtoMPZb+QjkDIaTf2/1A173UsfPsXUZ3syBnP/MbuqbvDx6yQxtEYe1kOusKYWs2FqOMXD21MScsu8NRORhEflaRNZEuF9E5F4R2SAin4nIlC4dQI59eaLSqsIFUKxT1UppMAasGsyb34apF0LhdMgdDGue7dg5jMG3dRnvNY5kR2U9D8+frntog8ydMRiAww/sE9hjqmLiEeCENu4/ERhp/7kC+HOXPnug8Mf2/XuNdRGXUhqMAVj1KEgSTDrf6rs67izY9BbUlEV9isaSTbj27eY/tQdy/3lTmDY0v/vGG4cO7J/JHd8Zx89POjjWQ0loxpilQOuuIvudDjxmLB8AuSIysMsGkNHfai1aWUxRnu41VspPg7F/4daoEyHbfs8Zdxb4muGLF6I6hc9nePo5q2Tk4cecynFjDuiu0ca18w8Z0rGGFSoWCoDtQd8X27e1IiJXiMgKEVlRUlIS3dldLsgeBFU7yM9IJT01SVdUK4UG4/0Lt6ZevP+2A8ZBn5FRTVUbY7jjpS9IKf6A+uQcTpg1q/vGqlQvYoz5qzFmmjFmWr9+/aJ/YE4RVBYjItq9SSmbBuOV/7AWbo2Yvf82/1T1lnetJghtePDtTTz83maOzdiIe8Rh1id/peLXDiB4E3ihfVvXybEKfwAU5afpAi6lSPRgXLYRNi+1Fm65QrYfjTsTMLB2ccSHL1qxnd+8so4Lxrnp01CMDDm8e8erVPd7AbjQXlV9CFBpjNnVpc+QUwhVO8HnpTDP2mtsou2brZRDJXYwDl64FarfKDhgPKwNXwDk9c/3cONzqznqoH7cMsHekzz4sLDHKtVbiMgC4H1glIgUi8ilInKliFxpH7IE2ARsAB4Cvt/lg8gpBOOF6t0U5adT0+ilvLapy59GqXiSuF2bwi3cCjXuTHjjl1CxzdruZFu5tZyrn1zFuEHZ/HneFJLfeBpSMmDghB4avFKdY4yZ2879Bri6WweRHdzXeAhgrajOz0jt1qdVqjdL3Mw43MKtUGPPsP5e+6/ATfVNXn646BMOyPbw8PzpVhemrcugaLrVA1gp1Tb/XuOq4L7Get1YJbbEDcbhFm6Fyh9m9fQNWlX993c3s7WsljvPGEefTDfUlcOetTpFrVS0cvZnxoX2XuPicl1RrRJbYgbjthZuhRp3Fuz6FMo2srOijvv+u4ETxg7gyJH2Vo5tHwIm0KlJKdUOTza4s6GymCxPCrnpKVr4QyW8xAzGbS3cCjX2DEBgzXPcueQLfMZw0ylBVaS2LbMqChVO67bhKuU4OYVQae2YKspLZ7tmxirBJV4wjmbhVrDsQTD4UGpXPcVLn+3i6tkHtmz+sHUZFEyBlLTuG7NSTpNTCJVWoa+i/DSKNTNWCS6qYCwiJ4jIeruTy8/C3D9ERN6wu7y8JSK9ty1PNAu3QnjHnkF65VccnVvCFUcN339HYy3s/BgGH9oNA1XKwbKDCn/kpVNcXofPp3uNVeJqNxiLSBJwP1Y3lzHAXBEZE3LY3VjF5ScAtwG/7uqBdploFm6FWLBvCl4j3DpsXcvexMUfWTWstdiHUh2TUwh1e6GxlsL8dBq9Pr6uboj1qJSKmWgy4xnABmPMJmNMI7AQq7NLsDHAf+2v3wxzf+/QkYVbtq+r67lraRlfpE1m6O5XILhS0Lb3AYGiGd0zXqWcyt/XuGrH/u5Nur1JJbBognE0XVw+Bc60vz4DyBKRPqEn6lSXl6608pHoF27Z7np5HY3NPg447DykfDPs+mT/nVvfgwHjIC2368eqlJPl2G8hLfoaazBWiaurFnD9GDhaRD4GjsYqLO8NPajTXV66QnMDfNKBhVvAyq17eW7VDi47chj9pp1lrZr27zluboTtH+n+YqU6I7DXeAcFuf6+xrqiWiWuaIJxu11cjDE7jTFnGmMmA/9r31bRZaPsCutegtqyqBdueX2Gm59fy8AcDz845kBIz4cDj4U1/wKfz9p73Fyn+4uV6oysQYBAZTGelCQOyHbrNLVKaNEE44+AkSIyTERSgTlYnV0CRKSviPjPdSPwcNcOswt0cOHWguXbWLuzip+fdDDpqXYJ73FnQVUxFC+39heDBmOlOiM5FTIPaLGiWqepVSJrNxgbY5qBHwCvAl8Ai4wxa0XkNhE5zT5sFrBeRL4EDgDu7Kbxdk5jrbVwa8K5US3cKq9p5O7X1nPI8HxOmRA0pT3qREj2WFPVW5dB/gjI7N+NA1fKwXIKrQ+3QGFempbEVAktqq5NxpglWK3Vgm+7OejrZ4BnunZoXahur/V3blHbx9l++9p6quub+eVp4xCR/Xe4s2Dk8VaPY28jHHxqNwxWqQSRUwh71gBQlJ/OC5/upMnrIyUp8WoRKZUY/+vr7MvXnvZXPa8urmTB8m1cdOhQRg3Ian3AuLOg5muor9ApaqW+iZxCa5raGIry0vEZ2FVRH+tRKRUTiRGM6+1g3M4WJJ/PcPMLa+iTkcp13xoZ/qCRx0NqpvW1BmOlOi+nEJrroXYvhfm611gltsQIxlFmxku/KuHjbRXccMJosj0RehOnpsPY71jXi3OHdPFAlUogge1N2ynK073GKrFFdc047kWZGX++qwqAE8cNaPt8J/3O+kQffD1ZKdUx2f7CH8UMPGACSS7RzFglrMQIxlFmxptKauif5SYrUlbsl+Kx/iilOi+oJGZykotBuR4t/KESVmJMU9dXAGI1NG/DppJ9DOub0TNjUirRZfSFJPf+Vop56ZoZq4SVGMG4rsKaona1/eNuKq1heL/MHhqUUglOxKpR3aLwh2bGKjElRjCur2h3irq8ppGK2iZG9NPMWKkek1MIlVZ13aL8NEr3NVDX2KqsvVKOlxjB2J8Zt2FT6T4AhmswVqrn5BTtz4zt7k3FOlWtElBiBOMoMuONJTUADO+r09RK9ZjsAqjeBd4mBuZYe413VWrhD5V4EiMY15W3nxmX1JCSJBTajc6VUj0gpxAwUL2L/AxrF0N5bWNsx6RUDCRIMG4/M95Uso8hfTJI1rq4SvWcQOGPYvLSUwGoqG2K4YCUig3nRx5jrGnqdq8Z1zBctzUp1bOCgnFOmmbGKnE5Pxg31oCvuc3MuNnrY2tZDcN08ZZSPSuoCldykotsTzLlNRqMVeJxfjCOohTmjoo6mryGEbp4S6me5c6EtLzAiur8jFTKdZpaJSDnB+MoSmFu8q+k1sxYqZ6XXRgIxrnpqTpNrRKS84NxFJnxxhL/HmPNjJXqcTmFUGUV/rAyYw3GKvE4PxhHkxmX1pCbnkJ+RmoPDUopFZBTGKhPnZueQnmNTlOrxOP8YBxFZrypZJ+upFYqVnIKoL4SGqrJ12lqlaCcH4z9mXFaXsRDNpVogwilYsbfSrFyB3kZqdQ2eqlv0vrUKrE4PxjXV4C4IDUr7N3V9U18Xd2grROVihUt/KFUAgTjugrw5ERsn7il1CpKr92alIqRwF7j7eSla+EPlZicH4zbaRKxv1uTTlMrFRNZA63Zq6od5NqZsRb+UInG+cG4nSYRG0tqcAkM6ZPeg4NSSgUkJUPWIKgsDuxo0MIfKtEkQDBuJzMu2UdhXjru5KQeHJRSqoWcAvuasTVNvVenqVWCcX4wbqdJhLWSWq8XKxVTOVYVLv80dYVOU6sE4/xg3EZm7PMZNpfWMFxrUisVW3YVrlQXZLqTNTNWCcfZwbid9om7q+qpa/JqtyalYi27ELyNUFNCXkaKbm1SCcfZwbid9on+BhEjdI+xUrHl32tcZe013qvT1CrBODsYt1MKc7Nua1Kqdwgp/FGh09QqwTg7GLfTJGJjSQ0ZqUkckO3uwUEppVppEYxTdGuTSjjODsbtZMabSmsY1i8DEenBQSmlWknLg5R0qLQKf2jRD5VonB2M22kSYXVr0ilqpWJOJNBKMT8jleqGZpq8vliPSqke4+xgXB95mrq+ycuOijrdY6xUb5HdsvCH1qdWicTZwbgu8jT1lrIajEG7NSnVW9h7jfMytHOTSjzODsZttE8MbGvSldRK9Q45RbBvD/luA6Dbm1RCcXYwriuP2D5xc6kVjDUzVqqXyLFaKfYzZQC6vUklFIcH48ilMDeW7GNAtocMd3IPD0opFZbd1zjfWwLA3hqdplaJw9nBuI1SmNogQqlexv5dzaIO0AVcKrE4OxhHyIyNMda2Jg3GSvUe7mwAUpv3kZaSpNPUKqE4OxhHyIzLahqpqm/WPcZK9SZ2MKa+irz0FJ2mVgnF2cE4QmbsX0mtmbFSvYjHDsYNleRlaH1qlVicG4zbaJ+4qcRuEKGZsVK9R7Ibktx2ZpyqPY1VQnFuMG6jfeLm0hpSk10U5KXFYGBKqYg82dBQbWfGOk2tEodzg3EbTSI2ltQwtE86SS5tEKFUr+LOggb/NWPNjFXicG4wbqNJxKZSbRChVK/kzg5MU1fVN9GszSJUgnBuMI7QJKLJ62NbWa0u3lKqN/JkBzJjY6CyTqeqVWJwbjCO0CRi+95amn2G4VqTWqnex58Z280iyvW6sUoQzg3GETJj3dakVC/mybEWcKX7OzfpdWOVGJwbjCNkxptK/duaNBirxCMiJ4jIehHZICI/C3P/YBF5U0Q+FpHPROSkHh1gYAGXFYx1EZdKFA4OxuVh2yduLq0hPyOVXPuXXalEISJJwP3AicAYYK6IjAk57CZgkTFmMjAHeKBHB+m2tzalJwHa01glDucG4/qKsO0TN5bUaFasEtUMYIMxZpMxphFYCJwecowB7FJY5AA7e3B8dhUuQ16SlRFr4Q+VKJwbjNsohanXi1WCKgC2B31fbN8W7FbgfBEpBpYA10Q6mYhcISIrRGRFSUlJ14zQrk+dbqzCPNq5SSUK5wbjMKUwq+qbKN3XoCuplYpsLvCIMaYQOAn4p4iEfZ8wxvzVGDPNGDOtX79+XfPsdn1qaagmLz2Fcr1mrBKEc4NxmMw4sJJap6lVYtoBFAV9X2jfFuxSYBGAMeZ9wAP07ZHRgbWACwKLuHRrk0oUUQXjXr8CM5wwmXGgQYRmxioxfQSMFJFhIpKKtUDrhZBjtgHHAojIwVjBuIvmoKPgzrH+tqtwaWasEkW7wTguVmCGEyEzTnIJg/PTYzQopWLHGNMM/AB4FfgC63d2rYjcJiKn2Yf9CLhcRD4FFgDzjTGmxwYZaKNYRX5Gql4zVgkjOYpjAiswAUTEvwLz86BjYrsCM1SE9ombS2soyksjNdm5s/NKtcUYswRrYVbwbTcHff05cHhPjyvAvT8Y56an6NYmlTCiCcbhVmDODDnmVuA1EbkGyACO65LRdVaE9okbS/bpFLVSvZk/M/ZPU9c24vMZXNphTTlcV6WIUa3A7JatEOHUt+7Y5PMZtpTpHmOlerWUdJAkawFXRio+A9X1zbEelVLdLppg3GUrMLtlK0Q4YUph7qyso77Jp5mxUr2ZiLWiut7q3ARa+EMlhmiCce9fgRkqTJMIbRChVJzwt1EMdG7SYKycr91gHBcrMEOFyYz3b2vSYKxUr+Zu2blJtzepRBDNAq7evwIzVF259XdwZlxaQ6Y7mX6Z7hgNSikVFXuaOj9dexqrxOHMPT71rTPjzaVWTWoRXZWpVK/myYaGSnIzrGvGmhmrRODMYFxX0ap94ibt1qRUfHBnQ30VWe5kkl2i14xVQnBmMA5pn9jQ7GVHRR3D+upKaqV6PXsBl4iQq/WpVYJwZjAOKYVZWWf9MvfJTI3ViJRS0XJnQ0M1GKOdm1TCcGYwDimFWVVnFQ3ITkuJ1YiUUtFyZ1kV9JrqyNP61CpBODMYR8iMsz1RLR5XSsVSULOIvPQUDcYqITgzGIdmxvV2MNbMWKneL6iNotW5Sa8ZK+dzZjAOyYyrApmxBmOler1AZlxtLeCqaSSWNYSU6gnOC8aB9on7m0RU1fuvGes0tVK9XqCNYiX56ak0+wz7GrRZhHI25wVjf/vENM2MlYpLbrs+QL3V0xigvEanqpWzOS8Yh2kSUVXfRGqyC09KUowGpZSKWtACrnxtFqEShPOCcZgmEVV1zeTo4i2l4oN/mrq+itx0DcYqMTgwGLduElFV36TbmpSKF/5p6obqQE9jDcbK6ZwXjMM0iaiqa9JtTUrFC1eSVVc+eJparxkrh3NeMK4Lc824rkkXbykVT+w2itmeFFyimbFyPucF43CZcX2zZsZKxRO7jaLL5W8WocFYOZvzgnGY9olWZqzXjJWKG3YbRYDc9BSdplaO57xgHNI+0RhjLeDSzFip+OGxOzcB+ZoZqwTgvGAcUgqzvslHk9foNWOl4onbWsAFkJueyl5to6gcznnBOEKTCN1nrFQcCZqmzs9IoUKbRSiHc14wjtQkQutSKxU/PNmBzDjPnqbWZhHKyZwXjFs1idC61ErFHXcONNdDcyO56ak0NPuoa/LGelRKdRvnBeO6ltPUlXXay1ipuBPURjE/w1+FS6eqlXM5Kxj72yd6WtalBnRrk1LxJFASs3J/fWpdxKUczFnBOFz7xHrNjJWKO0HNIrRzk0oEzgrG4ZpE2NPUWZoZKxU/gtoo+ptF6PYm5WTOCsYRSmF6Uly4k7WXsVJxw73/mnGePU2t25uUkzkrGGuTCKWcwbN/mtpfI0AzY+VkzgrGYTPjJi34oVS8ce+fpk5OcpGTlkKFXjNWDuasYBw2M9aOTUrFnaAFXAB56Sm6tUk5mrOCcZjMuFI7NikVf5JTIdkDDZUA2kZROZ6zgnG49onasUmp+OQO6tyUocFYOZuzgnFI+0TQBVxKxS2P9jRWicNZwTikSYTVy7hZm0QoFY+C2ihqT2PldM4KxiFNImobvXh92stYqbgU1EYxLyOV2kYv9dosQjmUs4JxXfhexnrNWKk4FNJGEbTwh3IuZwXjiE0iNBgrFXfcOYEFXFoSUzmds4JxhMxYi34oFYfcWS2mqQEt/KEcyznB2BirUUSYJhG6gEupOOTJhsZq8HkD09Ra+EM5lXOCceM+MN5WBT9Ap6mVikstmkXY09SaGSuHck4wjtAkAnQBl1JxKaiNYq5/AZdeM1YO5ZxgHKF9ImgvY6XiUlBmnJrsItOdrJmxciznBOMImXF6ahIpSc75MZVKGG67rG1gEVeKbm1SjuWcKBWhfaJeL1YqTnlyrL+D9hrr1iblVM4JxhHbJ+oUtVJxqVUbxVTd2qQcyznBOEJmrHuMlYpTQQu4wCr8odeMlVM5JxhHap+o09RKxSd3SDDOSKVCOzcph3JOMA7TPrGyTnsZKxW3UtJAklpMU1c3NNPk9cV4YEp1PecE47qWHZvAvmas25qUik8iIc0irA/W2kpROZFzgnFIkwifz1Bdr5mxUnEtpI0iaOcm5UzOCcYhTSJqGpvxGS2FqVRc82QHdW6ygrFub1JO5KBgHNIkwq6+pVublIpj7pwwPY01GCvncU4wrg9pn6hNIpSKfy3aKPp7Gus0tXIeZwRjY6xpam0SoZSzeLKhoRIgqI2iZsbKeZwRjMO0T/RPU2vRD6XiWNACLk9KEmkpSZTrNWPlQM4Ixm21T9RpaqXil38BlzEA5GekUq6rqZUDRRWMReQEEVkvIhtE5Gdh7r9HRD6x/3wpIhVdP9Q2hCmFWRmYptYFXErFLXeWNevVVAtAbnqKLuBSjtRuMBaRJOB+4ERgDDBXRMYEH2OMud4YM8kYMwn4E/Bcdww2onCZcb0VjDPdGoyV8mvvg7V9zLki8rmIrBWRJ3t6jC2EaRah9amVE0WTGc8ANhhjNhljGoGFwOltHD8XWNAVg4tauCYRdc1kupNJ1l7GSgHRfbAWkZHAjcDhxpixwHU9PtBgoW0UM1K16IdypGgiVQGwPej7Yvu2VkRkCDAM+O83H1oHRMiMtRSmUi1E88H6cuB+Y0w5gDHm6x4eY0utMuMULfqhHKmr08Y5wDPGGG+4O0XkChFZISIrSkpKuu5Zw2bGWgpTqRDRfLA+CDhIRN4TkQ9E5IRIJ+u23+dgrdooplJV30SzNotQDhNNMN4BFAV9X2jfFs4c2piiNsb81RgzzRgzrV+/ftGPsj11FVZ3F/+naLR9olKdlAyMBGZhXXJ6SERywx3Ybb/Pwdx2S9SgZhHG7F+gqZRTRBOMPwJGisgwEUnFCrgvhB4kIqOBPOD9rh1iFPztE0UCN1XVNetKaqVaiuaDdTHwgjGmyRizGfgSKzjHRug0dYa/8IcGY+Us7QZjY0wz8APgVeALYJExZq2I3CYipwUdOgdYaIy9IbAnhTSJADsz1mlqpYJF88F6MVZWjIj0xZq23tSTg2whzDQ1aBUu5TxRpY7GmCXAkpDbbg75/tauG1YHhbRPBGsaS6epldrPGNMsIv4P1knAw/4P1sAKY8wL9n3Hi8jngBf4iTGmLGaDTs0CJNC5Kd+fGesiLuUwzpjHrStvkRn7fIZ9Dc2aGSsVor0P1vbM1g/tP7HncrVoFpGbbv1O6/Ym5TTO2IQb0iSiuqEZY9CtTUo5gTur1TS1Fv5QTuOMYBypfaJmxkrFP3c21Fudm9JTk0hNduk1Y+U48R+Mw7VPrNcmEUo5hic7kBmLCHnpKXrNWDlO/AfjcO0T66z2ibq1SSkHcGcHFnCBNVWtW5uU08R/MG6jSYRmxko5gGd/T2Owg7Fmxsph4j8YRyiFCZCj14yVin9BC7jA39NYg7FylvgPxmEzY/80tQZjpeKeu2VmnJueotPUynHiPxiHyYwr65oQgSztZaxU/PNkg7cBmhsA6Jflpry2kcZmbRahnCP+g7E/M07LC9xUVddEpjsZl0siPEgpFTfc/p7G1iKugtw0jIFdlXUxHJRSXSv+g3F9pF7GOkWtlCP4OzfZe40L8tIA2FGuwVg5R/wH40D7xKzATVbHJg3GSjlCSLOIwtx0AIorNBgr54j/YByufWJ9k5bCVMopQtooDsjxIKKZsXKW+A/GIU0iwLpmrJmxUg4RkhmnJrs4IMvDDs2MlYM4IBi3bp9YXd+s14yVcgp/ZhxUhasgL00zY+Uo8R+MQ5pEgJUZa8EPpRwiZJoaYFBummbGylHiPxjX7oW0/MC3Xp+huqFZ61Ir5RQh09RgbW/aVVmHz2diNCilulb8B+O6vZC+PxhXa11qpZwlzj4tswAAIABJREFUKQWS0wJbm8Capm7yGr6ubojhwJTqOvEdjH1e6xc0KDPe37FJg7FSjhHURhGgMNfea1xRG6sRKdWl4jsYh6u+FciMdZpaKccIaaPoL/xRrIu4lEPEeTDea/2dHpwZ28FYM2OlnMOd1WIBV0EgM9ZgrJwhzoNxufV38DS1XjNWynlCpqkz3Mnkpqfo9iblGPEdjGvtzLhFkwj/NWOdplbKMULaKIKVHWtmrJwivoOxPzNOD3PNWKeplXIOT8trxmAHY82MlUPEeTAOlxk34RLITNXMWCnHcOe0mKYGuwpXRR3G6F5jFf/iOxjX7gVx7e93ClTWNZHlSdFexko5iTsLGvdZ2xltBblp1DZ6qahtiuHAlOoa8R2M68qtrNi1/8eoqtfqW0o5TpgqXIV5uqJaOUecB+O9Laaowe7YpCuplXKWMPWpC+y+xhqMlRPEdzAOqUsN/l7GGoyVchRP+M5NoH2NlTPEdzCuK29R8AOsrU06Ta2Uw7izrL+Dpqnz0lNIS0nSzFg5QvwH49Bpas2MlXIe/yLNoGlqEdG+xsoxHBCMQzPjJt1jrJTThFnABVr4QzlH/Abj5kZrq0NQZtzs9VHT6CVHg7FSzhJYwFXZ4mb/XmOl4l38BuNAk4jg6lt2KUzt2KSUs4RZwAVWZry3ppHaxuYYDEqprhPHwThMkwjt2KSUMyV7wJXcaprav9d4p2bHKs7FbzAO1yRCOzYp5UwiEZtFgPY1VvEvfoNxoElEcGbs79ikwVgpxwlpowhBe401M1ZxLo6DcRuZse4zVsp5wmTG/bM8JLtEtzepuBe/wTgwTR3mmrFOUyvlPJ6cVgu4klzCwFyPZsYq7sVvMK4rh6RUSM0I3KS9jJVyMHdWq2lqgEE5WvhDxb84DsZ2kwjZ3yqxqq6ZJJeQkZoUw4EppbpFmGlq0L3GyhniNxhHbBKRjIj2MlbKcTzZ0FDZ6ubC3DT2VNXT5PXFYFBKdY34DcZ1Fa2aRFRqKUylnMudbV0zNqbFzQV5afgM7K6sj9HAlPrm4jgYay9jpRKKJxuMDxprWtzs72use41VPIvjYByuY5O2T1TKscK0UQTda6ycIT6DsTH2NWPNjJVKGIFmES2D8cAcD4CuqFZxLT6DcVMteBtaXTPWXsZKOZjH7mkckhl7UpLol+VmR0VtDAalVNeIz2AcpkkEWFubdJpaKYdyh+9pDNrXWMW/+AzGYZpENDb7qGvyamaslFP5rxlH2mus09QqjsVnMA70Mt6fGVdr9S2lnM0TOTMuzE1jZ0U9Pp9pdZ9S8SBOg3HraepKuy51jgZjpZwpwgIusDLjRq+P0n0NPTwopbpGfAbjsL2M/e0T9ZqxUo6UmglIxGvGAMV63VjFqfgMxoHMOCgYa8cmpZzN5dpfhStEYK+xXjdWcSp+g3FKOqR4AjdpxyalEoA7K/w0tZ0Z79TMWMWp+AzG4ZpE1NnT1JoZK+Vcnuyw09RZnhSyPcm6vUnFrfgMxnXlkB5aCtOfGes1Y6Ucy50N9a07NwEU5KXrNLWKW1EFYxE5QUTWi8gGEflZhGPOFZHPRWStiDzZtcMMEaFJRLJLSEvRXsZKOVaEzBi08IeKb+0GYxFJAu4HTgTGAHNFZEzIMSOBG4HDjTFjgeu6Yaz7ReplnJaivYyVcrIIC7gACrXwh4pj0WTGM4ANxphNxphGYCFwesgxlwP3G2PKAYwxX3ftMEPUlbeuS13XrHuMlXK6CAu4wMqMqxuaAzUHlIon0QTjAmB70PfF9m3BDgIOEpH3ROQDETkh3IlE5AoRWSEiK0pKSjo3YmPCtk+srGsi26PXi5VytLamqXV7k4pjXbWAKxkYCcwC5gIPiUhu6EHGmL8aY6YZY6b169evc8/UUAXGG3GaWinlYO5s8DZCU32ru/zbm/S6sYpH0QTjHUBR0PeF9m3BioEXjDFNxpjNwJdYwbnrham+BdrLWKmEEGij2FbhD22lqOJPNMH4I2CkiAwTkVRgDvBCyDGLsbJiRKQv1rT1pi4c535hmkSAVQ5TtzUp5XD+zk1hpqr7ZKTiTnZpZqziUrvB2BjTDPwAeBX4AlhkjFkrIreJyGn2Ya8CZSLyOfAm8BNjTFm3jDhiL2PNjJVyvECziNZ7jUVEtzepuBVVKmmMWQIsCbnt5qCvDfBD+0/3qm1dl7q+yUtDs0+vGSvVDntx5R+BJOBvxpi7Ihx3FvAMMN0Ys6IHh9i2NtoogvY1VvEr/ipw+TPjFr2M/aUwdZpaqUiiqRlgH5cF/A/wYc+OMApttFEELfyh4lccBmP7mrFn/2JtbRKhVFSiqRkAcDvwG6D1kuVYC2TG4Qt/FOSmUbqvkfombw8OSqlvLv6Cce1ecOdA0v4s2L/JX4OxUm1qt2aAiEwBiowxL7V3si6pG9BR7vanqUG3N6n4E3/BOFyTCO1lrNQ3JiIu4PfAj6I5vkvqBnSUfzV1G9PUoIU/VPyJw2AcpkmEfc04R7c2KdWW9moGZAHjgLdEZAtwCPCCiEzrsRG2JynF6mWumbFymPgLxmF7GWtmrFQU2qwZYIypNMb0NcYM/f/27js8qjJ74Pj3nUnvlVCSQKihptJbsCxWQIqAiCJiYVV+4uourmvZVdd1dXfV3VUXsS+KWGBREQQBQeldQJAWQqhJICEhfeb+/rjpmUknMzc5n+fhGebOnTvvAJeTt52jaVonYDMwxqlWU0ONZRTb+nlgNinpGQvDMV4wtlUkQhZwCVGrOuYMcH4e9is3uZhNtPXzkJ6xMBzjjevarGVcjJvZhLuL8X62EKI51ZYzoMrxpOZoU725+9odpoaS7U3SMxYGY6zoZbXow1M2i0S4SC1jIVoDdz+7C7igJPGH9IyFwRgrGOdl6o9SJEKI1quGMoqg94zPXsqn2GJtxkYJ0TgGC8b2i0T4ynyxEK1DHXrGFqvG2UvOl7NECHsMFoxtF4nIyivCX4KxEK2DZ4D+f4HVds9X9hoLIzJWMLZTyzg7r0jyUgvRWgR3A0sBZCbbfFn2GgsjMlYwLhumrpr0o0i2NQnRWoT10R/PHbD5svSMhREZLBhXH6bWNI1LecWygEuI1qJNNKDg3H6bL3u4mgnxcZOesTAUYwXj3AugTOXJ4oGCYiuFFit+kgpTiNbBzRuCouDcPrunSClFYTTGCsZ5F/X5YlN5syUVphCtUFhvOG97mBpkr7EwHoMFY1tFIiQVphCtTlgfyDgKhbk2X+4Q4MnpzDw0TWvmhgnRMMYKxjaKRGTl6RWbZDW1EK1Im16ABmk/23y5Q4An+UVWMi4XNm+7hGggYwVjW0UiSoapZZ+xEK1IWG/90d6K6kAvQFZUC+MwXjCWYWohRGCUXtfYzorqsu1NMm8sDMJYwVhqGQshQF/E2aan3RXVZYk/pGcsDMI4wbi4AIou20j4oc8Z+8qcsRCtS1hvvWdsY5GWn4cLPu4u0jMWhmGcYFyW8KN6xSZ3FxMermYHNEoI4TBhffQdFjnnqr2klKJjsBdH03Jqv87FE3bzXAvRXAwYjG3VMpYhaiFanTa99Ec7Q9UxEQHsPpmJ1VrD9qaLyfBaHBxY0vTtE6IejBOM7RSJ0FNhyhC1EK1O2Ypq24u44iMDyc4v5khNvePkH0CzwKmdV6CBQtSdcYKxnVrGWXnSMxaiVfIKAt/2drc3xUcGALDzxEX710jZpD+mHWrq1glRLwYKxraHqTMuFxLk5eaABgkhHK50EZcNUSHeBHq5sqPGYLxZf5RgLBzMOMHYzjB1ek4BIT7uDmiQEMLhwnpB2kGwFFV7SSlFfGQgO1PsBOOcNMg4Al7BkJUCBXVY7CXEFWKcYJx3EcxuesWWElarxoXLhYT4Ss9YiFYprA9Yi/SgakN8x0COpl0mM9dGWsyTJb3i2Gn6Y7r0joXjGCgYlxSJUKrs0MXcQixWTXrGQrRWtSziiiuZN951MrP6iymbwcUDYqboz2WoWjiQcYKxjexb6Tn6T7sSjIVopYK7gcnF/vam8ABMys4irpRN0CEBQnroo25pB69wY4WwzzjBOC+z2krq9JwCQIKxEK2Wi5seTO2sqPZ2dyG6rV/1eePCy3BmD0QOArOLHtSlZywcyEDBuHot49JgHCpzxkK0XjWsqAZI6BjI7pRMLBWTf5zaAdZiiBysPw/tIT1j4VDGCca51YNxWrb0jIVo9cJ6waXU8u2PVcR3DOByoYVfzmWXH0zZDCgI768/D43W02IW5l759gphgzGCsabZrGWcnlOIq1lJLWMhWrOwPvqj3eQf+g/xlYaqUzbpPWpPfYEXbaIBDdJ/uYINFcI+YwTjolywFNgcpg72dkdVWGEthGhlSldUn7cdjCODvAj2ditP/mEphpNb9fniUqHR+qPMGwsHMUYwtpN9Kz2nQPYYC9Ha+bYDjwC7K6qVUsRFBrIrpWR70/n9UJhTPl8MENRZX5Ut88bCQYwRjCX7lhDCHqX0oepaFnEdT7/MhcuF5SkwK/aMza4Q3FWCsXAYYwRjO0Ui0rMLJRgLIfSh6vM/261LXFo0YlfKRX2+2D8C/MMrnyQrqoUDGSQYVx+m1jSNjMvSMxZCoK+oLsyBzBM2X+4XHoCLSbHzxAW9Z1yxV1wqtKde37go78q2VQgbjBGMbQxTX8orpsiiEeIjc8ZCtHplK6ptD1V7upnp2c6PlGMHIfsMRAysflJoD9CsdvNcC3ElGSMY2ximTitL+CE9YyFavdBoQNldUQ36ULXn2e36k4qLtypdA1lRLRzCIME4E1y9waU88EoqTCFEGXcfCOxkd0U16BWcYqw/Y3HzgzY9q58Q3AWUWZ97FqKZuTi6AXViI/uWBGMhRCW1pMWMjwwk13SIs3796GAyVz/BxV3f4iSLuIQDGKRnfBG8qgTjslSYMmcshECfN75wzG5Ky3CPfHqYUtmtou1fo020DFMLhzBIMLbVMy7EbFIEekkwFkKgr6jWrHZ7turkVgBWXIqyf43QaD2gFxdciRYKYZcxgrHNWsYFBHm7YTJJKkwhBLWuqCZlExblwrdZHcqmuaoJjQbNAhlHr0wbhbDDGMHYZpEI2WMshKggsBO4etUQjDeTF9KPAtzYecJ2hSdCe+iPabKISzQv5w/GpRWbqpZPzCmU+WIhRDmTWe/ZnrcRjIvy4fROPLoMxdWs2Fmap7qq4G6gTDJvLJqd8wfj/Cx92KjqMHV2AaHSMxZCVBTWG87u03+Ir+j0LrAU4tJpCL3a+1cup1iRqwcERsmKatHsnD8Yl6bC9KqcClOv2CTBWAhRQVgffcFnzrnKx1M26Y8RA4mPDGBvaiZFFtt5rAmVFdWi+RkgGFdPhZlTUExBsVWGqYUQlZXWNq46b5yyGUJ6gHcw8ZGB5BdZ+fnMJdvXCO2hp8QsLryybRWiAgME4+pFItJz9Jsk2Ft6xkKICmwFY6sVTpYXh4jvqP9gb38RVzRYi/UtTkI0E+cPxrmlwbi8Z1yWfUuGqYUQFXkFgW+7ysE47aC+9qQkH3V7fw/a+nnYX8TVJrr8fUI0kzoFY6XUdUqpQ0qpI0qpeTZen6GUSlNK7S75NavJWmijSIRk3xJC2BXWu/KK6tL54pKesVKK+I4B9hdxBXcDlMwbi2ZVazBWSpmBfwPXA72AqUqpXjZO/UTTtNiSXwuarIWlw9QeAWWHSnvGsppaCFFNm156ILUU6c9TNoNPW30fcon4yEBSL+Zx/lJ+9fe7eUFgR+kZi2ZVl57xAOCIpmnHNE0rBBYBY69ssyrIvQDu/mAur2mRllOIUhDkLT1jIUQVYX3AUlhelzilZL5YlWfri4ssmTe21zsOjZZgLJpVXYJxB+BkheepJceqmqCU2quU+kwpFdEkrQN9mLpqkYicAgK93HAxO/+UtxCimVVcxJWVClkp1eoX9+ngh5vZZH/eODQa0g+DpfgKN1YIXVNFsy+BTpqm9QNWAe/bOkkpda9SartSantaWlrdrmwj+1Z6doHMFwshbAvpDiYXPRinbNaPlcwXl3J3MdOng18tK6qL4OLxK9xYIXR1CcangIo93fCSY2U0TcvQNK008/oCIMHWhTRNm69pWqKmaYmhoaF1a6GdIhGSl1oIYZOLmx6QS4Oxm095EYkK4iMD2Xsqi8JiG8k/ynJUH6Sg2MK/1hzmjne2crlAesriyqhLMN4GdFNKRSml3IApwLKKJyil2lV4OgZouizrNotEFEowFkLYF9a7PBiH96+05qRUfMdACout7D+dVf39Id0BSP55B9e/soGXv/2F9b+ksXj7yernCtEEag3GmqYVAw8CK9GD7GJN0/Yrpf6klBpTctocpdR+pdQeYA4wo8laaLOWsfSMhRA1aNMLLqXCuX3V5otLxZct4qo+b3wm30yGSxh7dm3Bqmm8P3MACR0DeefH4xTbS6MpRCNU/3HRBk3TlgPLqxx7qsLvHwceb9qmoS+eyM+qNEydW1hMbqGFEF+ZMxZC2FE2LK1Vmy8u1dbfg/b+HuxMucjdRAFQZLHy7o/HeWX1YV6nPUP80hn98Ag8XM3kFVq4/787WLn/HDf2a2fzmkI0lHMvR84vGT6qlPBDT4UpPWMhhF2lK6qVGcIT7Z4W3zGQXSWLuDYfy+DG1zbw5+UHGdw5mPjEQYTmn8DDrJ97ba8wOgV7MX/9UbSqVaGEaCTnDsY2ikSkScIPIURt/NqDhz+0iwE3b7unxUcGcjorn/s/3MGU+Zu5XGDhrTsSeXtGf/wi+oClAC4mA2A2Ke4e3pk9qVlsS7azCluIBnLyYGyrSERpKkwJxkIIO5SCq56EEY/WeFpCSdGINQfP8+Corqx+ZCTX9grTXwytnqN6Ynw4gV6uzF8vRSRE06rTnLHD5FbvGZcXiZA5YyFEDQbcU+sp/cL9eXFCXxI7BdEl1KfyixW2NxF9IwCebmamD+7Ea98d5mhaTvX3CNFATt4zLi0SUR6MM6R8ohCiiSilmNw/0nZQdfcFv/BqBSPuGNwRNxcTCzZIQhDRdJw8GNsepvb3dMXNxbmbLoRoAUJ7VMtRHeLjzoT4cD7fmVo2UidEYzl3RMu9AMoE7n5lh/Q9xjJELURD1KEc6iNKqQMleea/U0p1dEQ7nUZoNKT9AtbKe4tnDY+isNjKB5tOOKhhoqVx7mBcmvDDVN7M9GzJviVEQ9SxHOouILEkz/xnwF+bt5VOJrQHFOdBZuWg2yXUh2t6hvHhpmTyCi2OaZtoUZw8GF+0nZfaV4KxEA1QazlUTdPWapqWW/J0M3ou+tarTU/9scq8McC9IzpzMbeIz3amNnOjREvk3ME4t3oqzLScAtljLETD1LUcaqm7gW+uaIucXUmOalu1jft3CiQmIoC3NxzDYpUkIKJxnDsYVykSkV9kITu/WOaMhbjClFK3A4nASzWcU/+SqEbjGQC+7Wz2jJVS3Du8M8kZuaw6cM4BjRMtifMH4wo944zLkgpTiEaotRwqgFLqGuAJYEyF0qjVNKgkqhGF9oA024XoRvcOIyLIk7c2SBIQ0TjOHYyr1DJOz5bsW0I0Ql3KocYB/0EPxOcd0EbnE9rT5opqABezibuHRrHjxEV+2rcX/jsRls1xQCOF0TlvMC4ugKLLlRJ+lGffkmAsRH3VsRzqS4AP8KlSardSapmdy7UeoT30/4su2V6oNSkhnLs8vqfb57+CI6tg90dQkN3MjRRG57zpMMsSftgIxjJnLESD1KEc6jXN3ihnV5aj+hAERFZ+7dJpvJfN4WlWsdHSi26/uo/Q1f8Hx9ZBz5ubvanCuJy3Z1yWl7pi9i2ZMxZCNLPSHNXnK8wbaxrsXQyvD4LkH8ge9WfusvyBf6XFgrs/HP7WMW1trLP74D8jIHVHjaetPXieKfM3kZ1f1EwNa/mcNxiX9owrrKZOyy7A190FD1ezgxolhGh1vILAu035iuqcNFg8Hb64B0J6wOwf8R35AGPjwvlk5xkKOo2Ew6v0gG0klzNg0VQ4swd++HuNp/5zzWE2H7vAP1YdbqbGtXxOHIxtV2yS+WIhRLNrE63vNT6wTO8N/7ISrvkjzFwBwV0AmDW8M/lFVr63xkH2GTj7k4MbXQ+WYvhsBmSfg+7Xw6HlkHnS5qkHz15iZ0om7fw9eG/jcfadymretrZQThyMbReJkPliIUSzC42GUzv0HrF/B7j3exj2MJjKR+m6h/lyTc82PHeovX7ASEPV3/4Bjq+Hm1+FG0oyoO541+apH21Jwc3FxCf3DibI250nlvwkSU+agPMGY5u1jCUvtRDCASIH64E36XGY9R2EVU3prXt2XB8uuQRx2NwV6y8GCca7/gtb3oBBv4bYqfoite7Xw4739V0tFeQWFrNk5ylu7NuOyGAvnrypJ3tSs/hoixTMaCznDcZx0+GeNeDmXXZI7xlLMBZCNLPet8DjqZA0D8yudk9r5+/JixP6sbygH6RuK+9UOKvU7fDVXIgaCdc+W358wCzITYf9Syud/uWe02QXFDNtoL6qfExMe4Z1DeGvKw5xPju/OVve4jhvMPYOhg4JoBQARRYrmblFEoyFEM1PKXD1rNOpo3u3xb3naExY+fmHpbW/wVEunYFF0/R0n5PeA3OFna5RSRDcFba9VektH21JoXuYDwkd9RFLpRTPjutDgcXKc1/ZzlIm6sZ5g3EVGaXbmnxlzlgI4dxmTBxPpvLj+KYlZfkRnEpxgT7/XXAJpnxUadcKoJet7T9L792f3g3AvlNZ7EnN4rYBkaiSThJAVIg3DyR1Zdme02w43EJzlDcDwwTj0n/Qwd7SMxZCODcPdzdUt2sZbN3FY4t3Ym3gAqdLV2Ifr6bB14/ogfaWN6FtH9vnxUwFV6+y3vHCLSl4uJq4Jb56Vc37kzrTOcSbJ5fuI79I6js3hGGCcVpJMA6VnrEQwgD8+95AoMom8/AW3t2YXK/35hYW89ine+j3zLf8dcXBpl2tvPUtfdHWiMeg11j753kGQL/J8NNn5Fw8z7Ldp7i5X3v8PavPmbu7mHl2XB+SM3J5fd3RpmtrK2KYYCxFIoQQhtLlKjRlYmbYYV785mCd9+MeOH2Jm/75A5/tTGVgVBCvrzvKjHe3crGkal2jHF8PK+bpq6WTfl/7+QPugeJ8Dq14g8uFFm4bGGn31KFdQxgX25431x3laFpO49vayhgnGEsqTCGEkXgFocIHcL37TwR6uzJn0S5yC4vtnq5pGh9sSmbc6z+Sk1/MwlkD+eS+wbwwvi9bjl3g5n/90LgEGxdPwOI79SQl4+fr88K1CeuNFjmY9oc/ondbH2IjAmo8/Ykbe+HhauLJpfvQjJaBzMEMFIwL8HQ14+3uvLUthBCiku6/wuXcHv51c3uOp1/mj8sO2DwtM7eQ+z7cwVP/28/QLsF883/DGdIlBICpAyJZfP9gLFaNCW9s5IudtqtH1Sg/Cz6eClYLTPkYPPzq/NYTXabRznqW33Q5WWnhli2hvu787vpoNh7N4H+7T9e/na2YoYKxrKQWQhhKt18B0L94J79O6sIn20/y1d7KQWpb8gVueHUDaw+d5w839uTtO/sTXGUEMDYigC8fGkZsRACPLN7D0//bR2Fx9frKNhXlw8e3QfohmPQuhHSt11d482xPzmuBjLi4pE7nT+0fSVxkAM99fYCsXCkkUVfGCsYyRC2EMJKwPvo+3sPf8vA13YmNCODxL37i5IVcLFaN1747zOT/bMLVxcQXs4cya3hnTCbbvc8QH3cWzhrIrGFRvL/pBNMWbOb8pVoSbVgt8PndcOIHGPcmdL26Xs3Pyiti6b409oaNw+XYd3DhWK3vMZkUz4/ry8XcIl5cebBen9eaGScYZ0sqTCGEwSgF3a6Fo2txxcJrU+LQNJizaBfTFmzm76t+4eaY9nz10DD6hvtXf7+l8hyzi9nEH27qxWtT49h3Sl/oteOEnSxfpVuYDn4F1/0F+k2qd/OX7jpFfpGV8Gtm6+lAt71dp/f1au/HXUM68dGWFHacuFjvz22NjBOMpWcshDCibqP15Bopm4kM9uL5W/qwKyWTPSezeGliP16ZHIuvh40Umwf+B39uD2ueA0vl4d4xMe354tdD8HQzM2X+Zhbayg299s+w4z0YNhcGza53szVNY+GWE/QL9ye6ew+IvknfElWYW6f3z722O+38PXj2qwOymKsODBGMiy1WLuQWEioVm4QQRtN5JJhcy6o4jY3twOvT4vl6zjAmJUbYXhSVk6bnjHbzgvUvwdvXQnrl2sE92/mx7IFhDO0awhNL9vG/3afKX9z6Fqz/K8TdDlc/3aBm7zhxkV/O5ZTloWbAvZCfCfs+q9P7vd1d+HVSF3afzKy5d2y1wPZ3YfObcHA5nNsPBdkNanO9nNuv13B2EoZYmnwxtwhNQ2oZCyGMx90XOg7Rg/Gv9GIMN/RtV/N7lv9GD0j3rdeD8Jdz4M3hMPo5SLy7LGe/v5cr/5mewPS3t/LYp3tpH+BJ/5x1sPwxfS/xTa+WnVtfH21JwdfdhZtjSkpCdhwCbXrpgT5uep2uOyEhnJe//YUFG46T2Cmo+glF+fDFLPj5y+qveQZBYEe9ilRAyWO7WIjo36DvU0n2WXjraug+Gm59v/HXawKG6BmXpsKUYWohhCF1Hw1pB/W9vrXZv0Qfok6aB216Qq8xMHuTHgy//g18NBlyzped7u5iZv70BMIDPVnw/rtoX9wLEQNh4juViz/UQ2ZuIV/9dIZxcR3wciu5hlJ6vuqze/VUmnXg5ebCtIGRrDxwlhMZlyu/mH8JFk7UA/F1f4FHj8CsNXq7r3lGzw7mGaj3YLe8CcsfhbevgcOrGvSdKtnwNyjOg0PfQF5m46/XBCQYCyHElVayxYkjtQSSnDQ94LaPgyH/V37crx3c/jlc/xIc/x5eH6wP6ZYI8HLjvze483ftryTTjsxxH+pD3A302Y6ShzE+AAAaPElEQVRUCout1TNu9ZsM7n5677iO7hzSCReT4t0fk8sP5pyH926ElE0w/i19TtsnFMIToM8EfZ775ldg+hJ4aAc8cQ7mHoCgzrDqKX1ou6EyU/Rh8YiBYCmAA85RWctgwVjmjIUQBhTcFQI71d6rW/6oPjw99vXqvVqlYOC9cO/3enBeNBWWzYGCHMg4Svuvp+PiHcQdBfO497OjFBQ3LGBpmsZHW1OIjwygZ7sqyUHcffQCEvuXVOqd1yTMz4Ob+7Xn0+0nycorgovJ8M5offh96iLod2vtFzGZwL8DXP0UnD8Aez6u/xcrtf4l/c9y4jsQ3A32fNLwazUhYwTj7NLyidIzFkIYkFJ67/jY91CUZ/uc/Uv0XtrI30FYL/vXahOtD+cOfRh2fgD/GQ4f3gJWC+4z/sejk5LYevwCj3/+U4NWMW85foFjaZe5bWBH2yf0nwXWIthZ97nWmcOiuFxoYdXa1fD2ryD3Aty5TN/2VR+9xul17tc8X+dV3ZVkHIVdCyFxJviHQ8wUSNmo/4DgYMYIxjkFuLmY8JVUmEIIo+o2Wp+nTP6x+muX0/Xh6XaxepCtjYsbXPtHmPG1vu3pchpM+wxCuzM2tgO/ubY7X+w6xWvfHal3MxduScHPw4Wb+tlZZBbaHTonwZb/6PuOs8/Ves0+HfyZ0eEMo7fORFNmmLkCIgbUu20oBdc+C9mn9Xnk+vr+r2B2g2GP6M9Le+V7F9f/Wk3MEME4LaeAUB/3WvOiCiGE0+o0FFw8y7Y4VfJ1yerpcW/Ub9FVp6HwwBZ4aKc+31riwau6MiE+nH+s/oUlu+qWy/rcpXzeWHeUlfvOMiEhHA9Xs/2Tr35Knzv++hH4Ww94ezRs/Jf9Huahb3gy8/ect/qzesgH+sK0huo0FHrcAD/8o35bk84fhL2f6JWofMP0YwGR0HEY7FmkJ0lxIEME4/ScQpkvFkIYm6snRI2Awysr/8df1+Fpe9y89TnkCpRSvDC+L4M6B/G7z35i63HbWbryiyx8tfc0M97dyuAXvuPFFQeJjQzgvhFdav7MDgn6wqrZmyDpcSi8DN8+Aa/G6Fuwvn9JD34Auz+CRdMwhfXiUd8X+eeOgsYnAbn6aSjM0ed/62rdC/qfVdWRh5jJcOEonNrRuDY1kjGCcbZk3xJCtADdrtV7jxklw8eX0+HrR+s+PF0Pbi4m3rw9gfAgT+79cDvH0/WtRZqmsTc1kyeX7mPgn7/jwY92cehsNr9O6sq6R5NYfN9g2vp71P4BSuk/PCT9Dmb/AHN26UPILh6w9jl4faAenJfOhqjhqDu/ZPzwWPamZrG9sSky20Tre523LYALx2s//8xe/QeeQb8G7+DKr/Uaq7d5z6LGtamRjBGMJRWmEKIlKN3iVDpUvfxRvbxhfYen6yjAy413Z/THpBR3vbuV/3x/lNGvrGfMv35k8faTJPUI5cO7B/DD767i0dE96BTi3fAPC+oMQ+fArFXwyM9ww8v6sf6z4LbF4O7LhPgOBHi5smBD7QUnapX0OJhdYc2ztZ+79s/g4Q+DH6j+moe/Puy973MoLmx8uxrI6YOx1aqRcblQyicKIYwvsCOERsMvK2H/Un2IOqmBw9N11DHYm7fuSOB0Vj4vfHMQb3cXnr+lD1ufuIZXp8QxvFsoZjuVohrMr70+Nzt9Cdz4N3DRO1OlSUC+PXCuehKQen9GOz247vu85iHm1O3wyzcw5CHwDLB9TswUyLsAR1Y3rk2N4PTBODOvCItVk56xEKJl6HYtnNhYYfX03Cv+kQkdg1j24FBWPzKSJb8eyrSBHfH3tFGcohncMdhGEpCGGjIHvEJg1dP2F2CtfR68gmHg/fav0+Uq/TqN2b/cSE4fjCX7lhCiRek2Wt+nm58F42wk97hCotv60bWNT7N8Vk3C/Dy4OaY9i0uTgDSGh5+eNjR5g+2EKsk/wtE1ekYvd1/71zG7Qt+J8MsKyHNMyUfnD8bZEoyFEC1I5CB9qPraP0JYb0e3xiHuHhZFbqGFRVtTGn+xhBn63PTqpyunydQ0vfykT1u9uEZt+k0GS6E+feAATh+M00p6xqEyZyyEaAnMrvreYFuLiVqJ3u39GdIlmPc2JlNksTbuYmZXfatT1TSZx9bq2bVGPFq3PN3t4yCkh74X2QGcPhin55SkwpSesRBCtBh3D4viTFY+y3860/iL9RoLHRLL02SW9or9wiH+jrpdQyl9z3HKJoekxzRAMC7A1awctthACCFE0xvVow2dQ7x5+4fjjU4CUmzVOBb3O8g+zdcLnuafb/4TTu1gU8TdbDh+iZMXcrFY6/AZfR2XHtPpkz2nZxcQ7C2pMIUQoiUxmRQzh0Xxh6X72JZ8kQFRQXV6n6ZpnMnKZ/fJTHalXGT3yUx+OpVFfpGVt1wTGHn+v/Q2BXNCC2P6ji4U79gKgKtZERHkRVSwNx2DvekU4sU1PcNoH+BZfvGACOg0XB/uHvGY3ltuJs4fjHMKZI+xEEK0QBPiw3n520Ms2HCsWjAutlg5k5VPyoVcUi7kciIjl2NpOew+mcn5koW9bi4merf347YBHYmNDKCP99/xXjgKH+tJrLf8hx+iRnM8/TInMi5zPOMyJ9JzSc64zI9H08kvsvLiNweZd0NPpg2IxFS617rfZFj2oL4/OaJ/s/1ZGCAYF8p8sRBCtECebmZuH9iRf687wiurf+F8dgEnSwLvqcy8SkPLpT3boV1DiI0IIDZCr7fs5lJxtrW9nvLy5BZM/SbR1mSmrb8Hg7tUToGpaRpH0y7zzLL9PLl0H8v3nuHFCf2IDPbS55+XPwp7F0kwrig9p4AebWvYH2ZARUVFpKamkp+f7+imCCfi4eFBeHg4rq6yPkK0HncM7sjbPxznldWHCfRyJTLYm5iIAG6OaUfHIG8igryIDPairZ9H3TKFjX6+1lOUUnRt48OHdw9g0baTPP/1z4x+ZT2/u64HdwzuhCn6Rj2z1+gX9HKVNTiblc/nO1PZevwC793Vv8FTqk4djDVNI6MF9oxTU1Px9fWlU6dOMhcugJJ/6xkZpKamEhUV5ejmCNFs2vh58OO8q3AxK/w8mvcHUaUUUwdEMqJ7KI9/8RPPfHmA5fvO8s+EcYTt+xyOrILoG6u9r8hiZc3B8yzedpK1h85j1WBQ5yAyc4sI9G7YtKpTB+NLecUUWqwtrnxifn6+BGJRiVKK4OBg0tLSHN0UIZpdUAMDWFPpEODJ+3f159MdqTz71QGu+p+J7R5BeOxZhKoQjI+l5fDJ9pN8vuMU6TkFtPF15/6RXbg1MaJxRTaoYzBWSl0HvAqYgQWapv3FznkTgM+A/pqmbW9UyyhP+NHSesaABGJRjfybEMJxlFLcmhjBiG6hPLHkJz4+MoDpPy/nyPETHLhg5pNtJ9mafAGzSXFVdBsmJ0aQ1CMUF3PT7BCu9SpKKTPwb+B6oBcwVSlVrcSIUsoX+D9gS5O0DMlLfaVkZGQQGxtLbGwsbdu2pUOHDmXPCwtrLiG2fft25syZU+tnDBkypKmaC8DDDz9Mhw4dsFobma1HCCFq0NbfgwV3JhJ19UxcKebDBa/ym0/3cD47n99dF82meVfx1h2JXNMrrMkCMdStZzwAOKJp2jEApdQiYCxwoMp5zwIvAo81VePKgrFsbWpSwcHB7N69G4BnnnkGHx8fHn300bLXi4uLcXGx/U8jMTGRxMTEWj9j48aNTdNYwGq1smTJEiIiIvj+++8ZNWpUk127opq+txCi9VBKMSrpVxTv68FDRTsYO+4JBkQFXdHRq7qE9Q7AyQrPU0uOlVFKxQMRmqZ93YRtkyIRzWjGjBncf//9DBw4kN/+9rds3bqVwYMHExcXx5AhQzh06BAA69at46abbgL0QD5z5kySkpLo3Lkzr732Wtn1fHx8ys5PSkpi4sSJREdHM23atLJsO8uXLyc6OpqEhATmzJlTdt2q1q1bR+/evZk9ezYff1yee/bcuXPccsstxMTEEBMTU/YDwAcffEC/fv2IiYlh+vTpZd/vs88+s9m+4cOHM2bMGHr10gd8xo0bR0JCAr1792b+/Pll71mxYgXx8fHExMRw9dVXY7Va6datW9k8r9VqpWvXrjLvK0RLoBQusVNod2k3A33Tr/g0UqO7AUopE/B3YEYdzr0XuBcgMjKy1mun5xRiUhDo1XJ7xn/8cj8HTl9q0mv2au/H0zfXvxpMamoqGzduxGw2c+nSJTZs2ICLiwurV6/m97//PZ9//nm19xw8eJC1a9eSnZ1Njx49mD17drWtObt27WL//v20b9+eoUOH8uOPP5KYmMh9993H+vXriYqKYurUqXbb9fHHHzN16lTGjh3L73//e4qKinB1dWXOnDmMHDmSJUuWYLFYyMnJYf/+/Tz33HNs3LiRkJAQLly4UOv33rlzJ/v27StbxfzOO+8QFBREXl4e/fv3Z8KECVitVu65556y9l64cAGTycTtt9/OwoULefjhh1m9ejUxMTGEhobW809eCOGUYm+DH1+FRdPg7m/Bq25ZwhqiLj3jU0BEhefhJcdK+QJ9gHVKqWRgELBMKVVtLFPTtPmapiVqmpZYl/+wMi4XEOTtXre9ZaLRJk2ahNlsBiArK4tJkybRp08f5s6dy/79+22+58Ybb8Td3Z2QkBDatGnDuXPnqp0zYMAAwsPDMZlMxMbGkpyczMGDB+ncuXNZALQXjAsLC1m+fDnjxo3Dz8+PgQMHsnLlSgDWrFnD7NmzATCbzfj7+7NmzRomTZpESEgIAEFBtd88AwYMqLSd6LXXXiMmJoZBgwZx8uRJDh8+zObNmxkxYkTZeaXXnTlzJh988AGgB/G77rqr1s8TQhiEb1uY+jFkpsBHk6Eo74p9VF16xtuAbkqpKPQgPAW4rfRFTdOygJDS50qpdcCjTbKaOruwxW1rqqohPdgrxdu7fGn+k08+yahRo1iyZAnJyckkJSXZfI+7e/kUgtlspri4uEHn2LNy5UoyMzPp27cvALm5uXh6etod0rbHxcWlbPGX1WqttFCt4vdet24dq1evZtOmTXh5eZGUlFRjcpaIiAjCwsJYs2YNW7duZeHChfVqlxDCyXUcAuPnw6cz4PNZcOsHYDI3+cfU2jPWNK0YeBBYCfwMLNY0bb9S6k9KqTFN3qIK0nMKCPWV+WJHyMrKokMHfWnAe++91+TX79GjB8eOHSM5ORmATz6xXUP0448/ZsGCBSQnJ5OcnMzx48dZtWoVubm5XH311bzxxhsAWCwWsrKyuOqqq/j000/JyMgAKBum7tSpEzt27ABg2bJlFBUV2fy8rKwsAgMD8fLy4uDBg2zevBmAQYMGsX79eo4fP17pugCzZs3i9ttvrzSyIIRoQXqPg+tegINfwYp5eonGJlanddmapi3XNK27pmldNE17vuTYU5qmLbNxblJT9IqhpEiELN5yiN/+9rc8/vjjxMXF1asnW1eenp68/vrrXHfddSQkJODr64u/v3+lc3Jzc1mxYgU33li+6d7b25thw4bx5Zdf8uqrr7J27Vr69u1LQkICBw4coHfv3jzxxBOMHDmSmJgYHnnkEQDuuecevv/+e2JiYti0aVOl3nBF1113HcXFxfTs2ZN58+YxaNAgAEJDQ5k/fz7jx48nJiaGyZMnl71nzJgx5OTkyBC1EC3ZoNkw+EHYOl+fR25iqrF1JBsqMTFR277dfszWNI2eT61g+qCOPHFjtW3Nhvbzzz/Ts2dPRzfD4XJycvDx8UHTNB544AG6devG3LlzHd2setu+fTtz585lw4YNjb6WrX8bSqkdmqbVvp/MgWq7n4VoEaxW+GKWnrd6/ALoN6leb6/pXm66HctN7HKhhfwiq/SMW7C33nqL2NhYevfuTVZWFvfdd5+jm1Rvf/nLX5gwYQIvvPCCo5sihLjSTCYY94Ze83jpbDi2ruku3WRXamKyx7jlmzt3Lrt37+bAgQMsXLgQLy8vRzep3ubNm8eJEycYNmyYo5sihGgOLu4w+b8Q0g0+mQ5n9zXJZZ03GJdl35JgLIQQwol4BsC0T8HNBxZOhMyTtb+nFs4fjFv41iYhhBAG5B8Ot38GhZf1gJx3sVGXc9pgnJaj7wMNlWFqIYQQziisN0xZCBeO6Vm6iuznJKiN0wZjH3czfTr4ObzOpRBCCGFX1Ah9UZelCIpyG3wZpw3Gt8SF89VDw5u0RJXQjRo1qiylZKlXXnmlLLWkLUlJSZRuXbnhhhvIzMysds4zzzzDyy+/XONnL126lAMHygt+PfXUU6xevbo+za+RlFoUQjS7vhNh5opG5a6WSNcKTZ06lUWLFlU6tmjRohqLNVS0fPlyAgICGvTZVYPxn/70J6655poGXauqqqUWr5QrkQRFCGFwjUyRKcG4FZo4cSJff/11WX7m5ORkTp8+zfDhw5k9ezaJiYn07t2bp59+2ub7O3XqRHp6OgDPP/883bt3Z9iwYWVlFkHfQ9y/f39iYmKYMGECubm5bNy4kWXLlvHYY48RGxvL0aNHK5U2/O6774iLi6Nv377MnDmTgoKCss97+umniY+Pp2/fvhw8eNBmu6TUohDCqKSSuqN9Mw/O/tS012zbF67/i92Xg4KCGDBgAN988w1jx45l0aJF3HrrrSileP755wkKCsJisXD11Vezd+9e+vXrZ/M6O3bsYNGiRezevZvi4mLi4+NJSEgAYPz48dxzzz0A/OEPf+Dtt9/moYceYsyYMdx0001MnDix0rXy8/OZMWMG3333Hd27d+eOO+7gjTfe4OGHHwYgJCSEnTt38vrrr/Pyyy+zYMGCau2RUotCCKOSnnErVXGouuIQ9eLFi4mPjycuLo79+/dXGlKuasOGDdxyyy14eXnh5+fHmDHldUP27dvH8OHD6du3LwsXLrRbgrHUoUOHiIqKonv37gDceeedrF+/vuz18ePHA5CQkFBWXKIiKbUohDAy6Rk7Wg092Ctp7NixzJ07l507d5Kbm0tCQgLHjx/n5ZdfZtu2bQQGBjJjxowaywfWZMaMGSxdupSYmBjee+891q1b16j2lpZhtFeCUUotCiGMTHrGrZSPjw+jRo1i5syZZb3iS5cu4e3tjb+/P+fOneObb76p8RojRoxg6dKl5OXlkZ2dzZdffln2WnZ2Nu3ataOoqKhS4PH19SU7O7vatXr06EFycjJHjhwB4MMPP2TkyJF1/j5SarFulFLXKaUOKaWOKKXm2XjdXSn1ScnrW5RSnZq/lUK0PhKMW7GpU6eyZ8+esmAcExNDXFwc0dHR3HbbbQwdOrTG98fHxzN58mRiYmK4/vrr6d+/f9lrzz77LAMHDmTo0KFER0eXHZ8yZQovvfQScXFxHD16tOy4h4cH7777LpMmTaJv376YTCbuv//+On0PKbVYN0opM/Bv4HqgFzBVKVW1JNrdwEVN07oC/wBebN5WCtE6OW0JxZZMSii2TnUptXglSygqpQYDz2iaNrrk+eMAmqa9UOGclSXnbFJKuQBngVCtlv8oWvP9LERdGbKEohAtiZOUWuwAVMxon1pyzOY5mqYVA1lAcLO0TohWTIKxEM2gJZZaVErdq5TarpTaLnumhWgcCcZCtB6ngIgKz8NLjtk8p2SY2h/IsHUxTdPma5qWqGlaouyZFqJxJBg7iKPm6oXzaoZ/E9uAbkqpKKWUGzAFWFblnGXAnSW/nwisqW2+WAjReBKMHcDDw4OMjAwJyKKMpmlkZGTg4eFxJT+jGHgQWAn8DCzWNG2/UupPSqnSjC1vA8FKqSPAI0C17U9CiKYnST8cIDw8nNTUVMlNLCrx8PAgPDz8in6GpmnLgeVVjj1V4ff5wKQr2gghRDUSjB3A1dW1UlpFIYQQrZsMUwshhBAOJsFYCCGEcDAJxkIIIYSDOSwdplIqDThRy2khQHozNOdKMvp3MHr7wfjfoaOmaU69kbeV3M9Gbz8Y/zsYvf1272WHBeO6UEptb4qcvI5k9O9g9PZDy/gOLYHR/x6M3n4w/ncwevtrIsPUQgghhINJMBZCCCEczNmD8XxHN6AJGP07GL390DK+Q0tg9L8Ho7cfjP8djN5+u5x6zlgIIYRoDZy9ZyyEEEK0eE4bjJVS1ymlDimljiilDJesXimVrJT6SSm1Wym13dHtqQul1DtKqfNKqX0VjgUppVYppQ6XPAY6so21sfMdnlFKnSr5u9itlLrBkW1sbYx+L4Pcz47Q2u5lpwzGSikz8G/geqAXMFUp1cuxrWqQUZqmxRpoKf57wHVVjs0DvtM0rRvwHc5fxec9qn8HgH+U/F3ElhRLEM2gBd3LIPdzc3uPVnQvO2UwBgYARzRNO6ZpWiGwCBjr4Da1eJqmrQcuVDk8Fni/5PfvA+OatVH1ZOc7CMeRe9lBjH4/t7Z72VmDcQfgZIXnqSXHjEQDvlVK7VBK3evoxjRCmKZpZ0p+fxYIc2RjGuFBpdTekqEvpx2aa4Fawr0Mcj87kxZ5LztrMG4JhmmaFo8+PPeAUmqEoxvUWJq+9N6Iy+/fALoAscAZ4G+ObY4wILmfnUOLvZedNRifAiIqPA8vOWYYmqadKnk8DyxBH64zonNKqXYAJY/nHdyeetM07ZymaRZN06zAWxj378KIDH8vg9zPzqIl38vOGoy3Ad2UUlFKKTdgCrDMwW2qM6WUt1LKt/T3wK+AfTW/y2ktA+4s+f2dwP8c2JYGKf3Pp8QtGPfvwogMfS+D3M/OpCXfyy6OboAtmqYVK6UeBFYCZuAdTdP2O7hZ9REGLFFKgf5n/JGmaSsc26TaKaU+BpKAEKVUKvA08BdgsVLqbvSqPLc6roW1s/MdkpRSsehDcsnAfQ5rYCvTAu5lkPvZIVrbvSwZuIQQQggHc9ZhaiGEEKLVkGAshBBCOJgEYyGEEMLBJBgLIYQQDibBWAghhHAwCcZCCCGEg0kwFkIIIRxMgrEQQgjhYP8P4iASvrjSbMwAAAAASUVORK5CYII=\n",
            "text/plain": [
              "<Figure size 576x576 with 2 Axes>"
            ]
          },
          "metadata": {
            "tags": [],
            "needs_background": "light"
          }
        }
      ]
    },
    {
      "cell_type": "markdown",
      "metadata": {
        "id": "7sIFeeIbf9E3",
        "colab_type": "text"
      },
      "source": [
        "dapat dilihat dari grafik bahwa accuracy dan vall accuracy tidak berjarak jauh dan dari waktu ke waktu semakin meningkat sehingga tidak terjadi overfitting. Dan nilai loss dan val loss juga dari waktu ke waktu semakin turun sehingga model yang digunakan cukup bagus.\n",
        "\n",
        "---\n",
        "\n",
        "\n",
        "Ada beberapa pilihan untuk menghindari overfitting selain image augmentation, yaitu:\n",
        "\n",
        "1. Menambah lagi convolution layer dan max pooling.  Kita bisa mengurangi jarak antara val_acc dengan acc dengan menambah layer ini.\n",
        "2. Pilihan kedua adalah melakukan modifikasi pada DataImageGenerator\n"
      ]
    },
    {
      "cell_type": "code",
      "metadata": {
        "id": "x1_ZajQ8EIi1",
        "colab_type": "code",
        "outputId": "e56ec691-b99c-4666-cae5-18926dc4a7d5",
        "colab": {
          "resources": {
            "http://localhost:8080/nbextensions/google.colab/files.js": {
              "data": "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",
              "ok": true,
              "headers": [
                [
                  "content-type",
                  "application/javascript"
                ]
              ],
              "status": 200,
              "status_text": ""
            }
          },
          "base_uri": "https://localhost:8080/",
          "height": 360
        }
      },
      "source": [
        "import numpy as np\n",
        "from google.colab import files\n",
        "from keras.preprocessing import image\n",
        "import matplotlib.pyplot as plt\n",
        "import matplotlib.image as mpimg\n",
        "import matplotlib.pyplot as plt\n",
        "import matplotlib.image as mpimg\n",
        "%matplotlib inline\n",
        "\n",
        "uploaded = files.upload()\n",
        "\n",
        "for fn in uploaded.keys():\n",
        "\n",
        "  path = fn \n",
        "  img = image.load_img(path, target_size =(150,150))\n",
        "  imgplot = plt.imshow(img)\n",
        "  x = image.img_to_array(img)\n",
        "  x = np.expand_dims(x, axis=0)\n",
        "\n",
        "  images = np.vstack([x])\n",
        "  classes = model.predict(images, batch_size=10)\n",
        "\n",
        "  print(fn)\n",
        "  if classes[0,0]!=0:\n",
        "    print('paper')\n",
        "  elif classes[0,1]!=0:\n",
        "    print('rock')\n",
        "  else:\n",
        "    print('scissors')"
      ],
      "execution_count": 31,
      "outputs": [
        {
          "output_type": "display_data",
          "data": {
            "text/html": [
              "\n",
              "     <input type=\"file\" id=\"files-06f2dd17-b97c-4dd4-bfa0-77374cd6fb91\" name=\"files[]\" multiple disabled />\n",
              "     <output id=\"result-06f2dd17-b97c-4dd4-bfa0-77374cd6fb91\">\n",
              "      Upload widget is only available when the cell has been executed in the\n",
              "      current browser session. Please rerun this cell to enable.\n",
              "      </output>\n",
              "      <script src=\"/nbextensions/google.colab/files.js\"></script> "
            ],
            "text/plain": [
              "<IPython.core.display.HTML object>"
            ]
          },
          "metadata": {
            "tags": []
          }
        },
        {
          "output_type": "stream",
          "text": [
            "Saving 1i1dlQrE6JnhYXE4.png to 1i1dlQrE6JnhYXE4.png\n",
            "1i1dlQrE6JnhYXE4.png\n",
            "scissors\n"
          ],
          "name": "stdout"
        },
        {
          "output_type": "display_data",
          "data": {
            "image/png": "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\n",
            "text/plain": [
              "<Figure size 432x288 with 1 Axes>"
            ]
          },
          "metadata": {
            "tags": [],
            "needs_background": "light"
          }
        }
      ]
    },
    {
      "cell_type": "code",
      "metadata": {
        "id": "asXOuqMeJzcc",
        "colab_type": "code",
        "colab": {}
      },
      "source": [
        ""
      ],
      "execution_count": 0,
      "outputs": []
    }
  ]
}